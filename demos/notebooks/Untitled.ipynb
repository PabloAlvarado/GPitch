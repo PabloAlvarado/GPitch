{
 "cells": [
  {
   "cell_type": "code",
   "execution_count": 1,
   "metadata": {
    "collapsed": true
   },
   "outputs": [],
   "source": [
    "%matplotlib inline"
   ]
  },
  {
   "cell_type": "code",
   "execution_count": null,
   "metadata": {
    "collapsed": true
   },
   "outputs": [],
   "source": [
    "import matplotlib.pyplot as plt\n",
    "from gpitch.transcription_svi import AmtSvi\n",
    "import numpy as np"
   ]
  },
  {
   "cell_type": "code",
   "execution_count": null,
   "metadata": {
    "collapsed": false
   },
   "outputs": [
    {
     "name": "stdout",
     "output_type": "stream",
     "text": [
      "number of induncing variables: 59\n",
      "pitches to detect [48, 51, 53, 55, 60, 62, 63, 72]\n"
     ]
    }
   ],
   "source": [
    "#path = '/run/user/1000/gvfs/sftp:host=frank.eecs.qmul.ac.uk'\n",
    "path = ''\n",
    "path_test = path + '/import/c4dm-01/MAPS_original/AkPnBcht/MUS/'\n",
    "path_train = path + '/import/c4dm-01/MAPS_original/AkPnBcht/ISOL/NO/'\n",
    "path_load = path + '/import/c4dm-04/alvarado/results/amt/params/'\n",
    "fname = 'MAPS_MUS-bach_847_AkPnBcht.wav'\n",
    "path = [path_train, path_test, path_load]\n",
    "frames = [88200, 2*44100]  # train and test number of frames\n",
    "\n",
    "m = AmtSvi(test_fname=fname, frames=frames, path=path)\n",
    "m.optimize(maxiter=np.infty, learning_rate=0.01)\n",
    "m.predict()\n",
    "m.predict_pianoroll()"
   ]
  },
  {
   "cell_type": "code",
   "execution_count": null,
   "metadata": {
    "collapsed": false
   },
   "outputs": [],
   "source": [
    "m.plot_data_train()\n",
    "m.plot_data_test()\n",
    "m.plot_results()\n",
    "plt.show()"
   ]
  }
 ],
 "metadata": {
  "kernelspec": {
   "display_name": "Python 2",
   "language": "python",
   "name": "python2"
  },
  "language_info": {
   "codemirror_mode": {
    "name": "ipython",
    "version": 2
   },
   "file_extension": ".py",
   "mimetype": "text/x-python",
   "name": "python",
   "nbconvert_exporter": "python",
   "pygments_lexer": "ipython2",
   "version": "2.7.13"
  }
 },
 "nbformat": 4,
 "nbformat_minor": 0
}
