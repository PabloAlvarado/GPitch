{
 "cells": [
  {
   "cell_type": "markdown",
   "metadata": {},
   "source": [
    "# Toy example: \n",
    "In this notebook all model paremeters, i.e:  noise variance, hyper-parameters of activations and components, variational distributions, are learned simultaneously by maximazing the marginal likelihood."
   ]
  },
  {
   "cell_type": "code",
   "execution_count": null,
   "metadata": {
    "collapsed": true
   },
   "outputs": [],
   "source": [
    "%matplotlib inline\n",
    "import sys \n",
    "sys.path.append('../../../')\n",
    "import matplotlib.pyplot as plt\n",
    "import numpy as np\n",
    "import tensorflow as tf\n",
    "import gpflow, gpitch\n",
    "reload(gpitch)\n",
    "from gpitch.amtgp import logistic\n",
    "from scipy.fftpack import fft, ifft, ifftshift\n",
    "from scipy import signal"
   ]
  },
  {
   "cell_type": "code",
   "execution_count": null,
   "metadata": {
    "collapsed": true
   },
   "outputs": [],
   "source": [
    "gpitch.amtgp.init_settings()\n",
    "plt.rcParams['figure.figsize'] = (16, 3)  # set plot size"
   ]
  },
  {
   "cell_type": "code",
   "execution_count": null,
   "metadata": {
    "collapsed": true
   },
   "outputs": [],
   "source": [
    "np.random.seed(2)\n",
    "Nc = 10  # number of partials\n",
    "var = 0.25*np.random.rand(Nc)  # variances\n",
    "leng = 0.5*np.random.rand()  # lengthscales\n",
    "f0 = 220.0\n",
    "freq = f0*np.asarray(range(1, Nc+ 1)) + np.sqrt(100.)*np.random.randn(Nc) # frequencies\n",
    "kern1 = gpitch.kernels.MaternSpecMixSL(input_dim=1, lengthscales=leng, variances=var, frequencies=freq)\n",
    "kern2 = gpflow.kernels.Matern32(input_dim=1, lengthscales=0.05, variance=10.)"
   ]
  },
  {
   "cell_type": "code",
   "execution_count": null,
   "metadata": {},
   "outputs": [],
   "source": [
    "f0*np.asarray(range(1, Nc+ 1))"
   ]
  },
  {
   "cell_type": "code",
   "execution_count": null,
   "metadata": {},
   "outputs": [],
   "source": [
    "print freq\n",
    "print leng\n",
    "print var"
   ]
  },
  {
   "cell_type": "code",
   "execution_count": null,
   "metadata": {
    "collapsed": true
   },
   "outputs": [],
   "source": [
    "N, fs = 2400, 16e3\n",
    "x = np.linspace(0., (N-1.)/fs, N).reshape(-1, 1)\n",
    "Kcom = kern1.compute_K_symm(x)\n",
    "Kact = kern2.compute_K_symm(x)"
   ]
  },
  {
   "cell_type": "code",
   "execution_count": null,
   "metadata": {
    "scrolled": false
   },
   "outputs": [],
   "source": [
    "noise_var = 1e-5\n",
    "com = np.random.multivariate_normal(np.zeros((N)), Kcom, 1).reshape(-1, 1)\n",
    "com /= np.max(np.abs(com))\n",
    "g = np.random.multivariate_normal(np.zeros((N)), Kact, 1).reshape(-1, 1)\n",
    "act = logistic(g)\n",
    "act /= np.max(act)\n",
    "y = act*com + np.sqrt(noise_var)*np.random.randn(N,1)\n",
    "\n",
    "plt.figure(figsize=(16, 12))\n",
    "plt.subplot(3,1,1), plt.title('data')\n",
    "plt.plot(x, y)\n",
    "plt.subplot(3,1,2), plt.title('activation')\n",
    "plt.plot(x, act)\n",
    "plt.subplot(3,1,3), plt.title('component')\n",
    "plt.plot(x, com)"
   ]
  },
  {
   "cell_type": "markdown",
   "metadata": {
    "scrolled": true
   },
   "source": [
    "# New component covariance function"
   ]
  },
  {
   "cell_type": "code",
   "execution_count": null,
   "metadata": {
    "scrolled": true
   },
   "outputs": [],
   "source": [
    "N = y.size\n",
    "Y = fft(y.reshape(-1,)) #  FFT data\n",
    "S =  2./N * np.abs(Y[0:N//2]) #  spectral density data\n",
    "F = np.linspace(0, fs/2., N//2) #  frequency vector\n",
    "\n",
    "\n",
    "aux1 = np.ones((Nc, 1))\n",
    "aux2 = f0*np.asarray(range(1, Nc+1))\n",
    "\n",
    "aux3 = np.ones((Nc + 1, 1))\n",
    "aux4 = f0*np.asarray(range(1, Nc+2)) - 0.5*f0\n",
    "\n",
    "plt.figure()\n",
    "plt.plot(F, S/np.max(np.abs(S)))\n",
    "plt.stem(aux2, aux1 )\n",
    "plt.plot(aux4, aux3, 'xr' )\n",
    "plt.xlim([0, 2000])\n"
   ]
  },
  {
   "cell_type": "code",
   "execution_count": null,
   "metadata": {},
   "outputs": [],
   "source": [
    "win = signal.hann(6)\n",
    "Ss = signal.convolve(S, win, mode='same') / sum(win)\n",
    "\n",
    "plt.figure(figsize=(16, 6))\n",
    "plt.subplot(2,1,1)\n",
    "plt.plot(F, S / np.max(S))\n",
    "plt.stem(aux2, aux1, 'r', markerfmt=\" \" )\n",
    "plt.stem(np.asarray(freq), aux1, 'g' ,markerfmt=\" \")\n",
    "plt.xlim([0, 2000])\n",
    "\n",
    "plt.subplot(2,1,2)\n",
    "plt.plot(F, Ss / np.max(Ss), lw=2)\n",
    "plt.stem(aux2, aux1, 'r', markerfmt=\" \" )\n",
    "plt.stem(np.asarray(freq), aux1, 'g' ,markerfmt=\" \")\n",
    "plt.plot(aux4, aux3, 'xC1' )\n",
    "plt.xlim([0, 2000])"
   ]
  },
  {
   "cell_type": "code",
   "execution_count": null,
   "metadata": {},
   "outputs": [],
   "source": [
    "F_star, S_star= gpitch.amtgp.init_com_params(y=y, fs=fs, Nh=Nc, ideal_f0=f0, scaled=True)\n",
    "plt.figure()\n",
    "plt.plot(F, Ss)\n",
    "plt.plot(F_star, S_star, 'xk', mew=2)\n",
    "plt.xlim([0, 2000])"
   ]
  },
  {
   "cell_type": "code",
   "execution_count": null,
   "metadata": {},
   "outputs": [],
   "source": [
    "print var"
   ]
  },
  {
   "cell_type": "code",
   "execution_count": null,
   "metadata": {
    "scrolled": true
   },
   "outputs": [],
   "source": [
    "kern1"
   ]
  },
  {
   "cell_type": "code",
   "execution_count": null,
   "metadata": {
    "scrolled": false
   },
   "outputs": [],
   "source": [
    "kern2"
   ]
  },
  {
   "cell_type": "code",
   "execution_count": null,
   "metadata": {
    "collapsed": true,
    "scrolled": true
   },
   "outputs": [],
   "source": [
    "kern_com = gpitch.kernels.MaternSpecMixSL(input_dim=1, lengthscales=1., variances=S_star, frequencies=F_star, Nc=1)\n",
    "kern_act = gpflow.kernels.Matern32(1)"
   ]
  },
  {
   "cell_type": "code",
   "execution_count": null,
   "metadata": {
    "collapsed": true
   },
   "outputs": [],
   "source": [
    "ws, dec = N//1, 80  # samples per window, decimation factor\n",
    "m = gpitch.modpdet.ModPDet(x=x, y=y, kern_com=kern_com, kern_act=kern_act, ws=ws, dec=dec, whiten=True)\n",
    "\n",
    "m.model.kern1.fixed = True\n",
    "m.model.kern1.lengthscales.fixed = False\n",
    "m.model.kern1.lengthscales.transform = gpflow.transforms.Logistic(0., 0.1)\n",
    "m.model.kern1.frequency_1.fixed = False\n",
    "m.model.kern1.frequency_2.fixed = False\n",
    "m.model.kern1.frequency_3.fixed = False\n",
    "m.model.kern1.frequency_4.fixed = False\n",
    "m.model.kern1.frequency_5.fixed = False\n",
    "m.model.kern1.frequency_6.fixed = False\n",
    "m.model.kern1.frequency_7.fixed = False\n",
    "m.model.kern1.frequency_8.fixed = False\n",
    "m.model.kern1.frequency_9.fixed = False\n",
    "m.model.kern1.frequency_10.fixed = False\n",
    "m.model.kern2.fixed = False\n",
    "m.model.likelihood.noise_var.fixed = False"
   ]
  },
  {
   "cell_type": "code",
   "execution_count": null,
   "metadata": {},
   "outputs": [],
   "source": [
    "maxiter, restarts = 500, 5\n",
    "init_hyper, learnt_hyper, mse = m.optimize_restart(maxiter=maxiter, restarts=restarts)"
   ]
  },
  {
   "cell_type": "code",
   "execution_count": null,
   "metadata": {},
   "outputs": [],
   "source": [
    "m.model.kern2.lengthscales = learnt_hyper[0].mean().copy()\n",
    "m.model.kern2.variance = learnt_hyper[1].mean().copy()\n",
    "m.model.likelihood.noise_var = learnt_hyper[2].mean().copy()\n",
    "m.model.kern1.lengthscales = learnt_hyper[3].mean().copy()\n",
    "\n",
    "m.model.optimize(disp=1, maxiter=500)"
   ]
  },
  {
   "cell_type": "code",
   "execution_count": null,
   "metadata": {},
   "outputs": [],
   "source": [
    "m.model.kern1.fixed = True\n",
    "m.model.kern2.fixed = True\n",
    "m.model.likelihood.noise_var.fixed = True\n",
    "m.model.optimize(disp=1, maxiter=500)"
   ]
  },
  {
   "cell_type": "code",
   "execution_count": null,
   "metadata": {},
   "outputs": [],
   "source": [
    "print freq"
   ]
  },
  {
   "cell_type": "code",
   "execution_count": null,
   "metadata": {
    "scrolled": true
   },
   "outputs": [],
   "source": [
    "m.model.kern1"
   ]
  },
  {
   "cell_type": "code",
   "execution_count": null,
   "metadata": {},
   "outputs": [],
   "source": [
    "m.model.kern2"
   ]
  },
  {
   "cell_type": "code",
   "execution_count": null,
   "metadata": {},
   "outputs": [],
   "source": [
    "print m.model.likelihood.noise_var"
   ]
  },
  {
   "cell_type": "code",
   "execution_count": null,
   "metadata": {},
   "outputs": [],
   "source": [
    "mean_f, var_f = m.model.predict_f(x)\n",
    "mean_g, var_g = m.model.predict_g(x)\n",
    "mean_act = logistic(mean_g)\n",
    "\n",
    "mean_f = mean_f.reshape(-1,)\n",
    "var_f = var_f.reshape(-1,)\n",
    "mean_g = mean_g.reshape(-1,)\n",
    "var_g = var_g.reshape(-1,)\n",
    "x_plot = x.reshape(-1,).copy()\n",
    "\n",
    "\n",
    "xla = 0.0\n",
    "xlb = 0.15\n",
    "plt.figure(figsize=(16, 12))\n",
    "plt.subplot(3,1,1), plt.title('data')\n",
    "plt.plot(x_plot, y, '.k') \n",
    "plt.twinx()\n",
    "plt.plot(x_plot, logistic(mean_g)*mean_f, lw=2)\n",
    "plt.xlim([xla, xlb])\n",
    "\n",
    "plt.subplot(3,1,2), plt.title('activation')\n",
    "\n",
    "plt.plot(x_plot[::dec], act[::dec], '.k')\n",
    "plt.twinx()\n",
    "plt.plot(x_plot, mean_act, 'C1', lw=2)\n",
    "plt.fill_between(x_plot, logistic(mean_g-2*np.sqrt(var_g)), logistic(mean_g+2*np.sqrt(var_g)), color='C1', alpha=0.2)\n",
    "plt.xlim([xla, xlb])\n",
    "\n",
    "plt.subplot(3,1,3), plt.title('component')\n",
    "plt.plot(x_plot, com, '.k')\n",
    "plt.twinx()\n",
    "plt.plot(x_plot, mean_f, 'C2', lw=2)\n",
    "plt.fill_between(x_plot, mean_f-2*np.sqrt(var_f), mean_f+2*np.sqrt(var_f), color='C2', alpha=0.2)\n",
    "plt.xlim([0.04, 0.05])"
   ]
  },
  {
   "cell_type": "code",
   "execution_count": null,
   "metadata": {},
   "outputs": [],
   "source": [
    "x_eval = x.copy() \n",
    "k_plot_model = m.model.kern1.compute_K(x_eval, np.asarray(0.).reshape(-1,1))\n",
    "k_plot_sample = kern1.compute_K(x_eval, np.asarray(0.).reshape(-1,1))\n",
    "\n",
    "plt.figure(figsize=(16, 4))\n",
    "plt.plot(x_eval, k_plot_model, lw=2)\n",
    "plt.xlim([0., 0.15])"
   ]
  },
  {
   "cell_type": "code",
   "execution_count": null,
   "metadata": {},
   "outputs": [],
   "source": [
    "N = x_eval.size\n",
    "Yk1 = fft(k_plot_model.reshape(-1,)) #  FFT data\n",
    "Sk1 =  2./N * np.abs(Yk1[0:N//2]) #  spectral density data\n",
    "\n",
    "plt.figure(figsize=(16, 6))\n",
    "plt.subplot(2, 1, 1)\n",
    "plt.plot(F, S / np.max(np.abs(S)), lw=2)\n",
    "plt.legend([' Spectral density data'])\n",
    "plt.xlabel('Frequency (Hz)')\n",
    "plt.xlim([0, 3000])\n",
    "\n",
    "plt.subplot(2, 1, 2)\n",
    "plt.plot(F, Sk1 / np.max(np.abs(Sk1)), lw=2)\n",
    "plt.legend([' Spectral density learned kernel'])\n",
    "plt.xlabel('Frequency (Hz)')\n",
    "plt.xlim([0, 3000])"
   ]
  }
 ],
 "metadata": {
  "anaconda-cloud": {},
  "kernelspec": {
   "display_name": "Python [default]",
   "language": "python",
   "name": "python2"
  },
  "language_info": {
   "codemirror_mode": {
    "name": "ipython",
    "version": 2
   },
   "file_extension": ".py",
   "mimetype": "text/x-python",
   "name": "python",
   "nbconvert_exporter": "python",
   "pygments_lexer": "ipython2",
   "version": "2.7.12"
  }
 },
 "nbformat": 4,
 "nbformat_minor": 1
}
