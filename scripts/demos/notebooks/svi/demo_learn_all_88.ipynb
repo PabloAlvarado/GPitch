{
 "cells": [
  {
   "cell_type": "code",
   "execution_count": null,
   "metadata": {
    "collapsed": true
   },
   "outputs": [],
   "source": [
    "import sys\n",
    "import os\n",
    "import time\n",
    "import numpy as np\n",
    "import tensorflow as tf\n",
    "import gpflow\n",
    "import soundfile\n",
    "import pickle\n",
    "sys.path.append('../../../../')\n",
    "import gpitch\n",
    "from gpitch.amtgp import logistic\n",
    "from gpitch import myplots\n",
    "import soundfile\n",
    "import sounddevice\n",
    "import peakutils\n",
    "from scipy import signal"
   ]
  },
  {
   "cell_type": "code",
   "execution_count": null,
   "metadata": {
    "collapsed": true
   },
   "outputs": [],
   "source": [
    "%matplotlib inline\n",
    "import matplotlib.pyplot as plt\n",
    "plt.rcParams['figure.figsize']= (16, 3)"
   ]
  },
  {
   "cell_type": "code",
   "execution_count": null,
   "metadata": {
    "collapsed": true
   },
   "outputs": [],
   "source": [
    "active_device = sys.argv[1]  # configure gpu usage and plotting\n",
    "gpitch.amtgp.init_settings(visible_device = active_device, interactive=True)"
   ]
  },
  {
   "cell_type": "code",
   "execution_count": null,
   "metadata": {
    "collapsed": true,
    "scrolled": true
   },
   "outputs": [],
   "source": [
    "saveloc = '../../../../../results/files/svi/notebook/'\n",
    "dirloc = '../../../../../datasets/maps/sample_rate_16khz/'\n",
    "pattern = '*F*.wav'\n",
    "bounds = [21, 109]\n",
    "midi = np.asarray([str(i) for i in range(bounds[0], bounds[1])]).reshape(-1,)\n",
    "filel = gpitch.amtgp.load_filenames(directory=dirloc, pattern=pattern, bounds=bounds)\n",
    "Np = filel.size  # number of pitches to analyze"
   ]
  },
  {
   "cell_type": "code",
   "execution_count": null,
   "metadata": {
    "collapsed": true
   },
   "outputs": [],
   "source": [
    "fs = 16e3  # sample frequency\n",
    "N = 16000  # number of data points to load\n",
    "x = np.linspace(0, (N-1.)/fs, N).reshape(-1, 1)  # time vector\n",
    "Nc = 10  #  number of harmonics for component kernels\n",
    "dec = 160  # decimation factor\n",
    "minibatch_size = 200\n",
    "maxiter = 2000\n",
    "learning_rate = 0.01"
   ]
  },
  {
   "cell_type": "code",
   "execution_count": null,
   "metadata": {
    "collapsed": true
   },
   "outputs": [],
   "source": [
    "Y = np.zeros((N, Np))\n",
    "ideal_f0 = np.zeros((Np,1))\n",
    "Fs = [None]*Np\n",
    "Ss = [None]*Np \n",
    "F  = np.zeros((N//2, 1))\n",
    "S  = np.zeros((N//2, Np))\n",
    "thres = np.zeros((Np, 1))"
   ]
  },
  {
   "cell_type": "code",
   "execution_count": null,
   "metadata": {},
   "outputs": [],
   "source": [
    "maxh = 20\n",
    "for i in range(0, Np):  # load data\n",
    "    y, fs = gpitch.amtgp.wavread(dirloc + filel[i], start=5000, N=N)  # load data       \n",
    "    Y[:, i] = y.reshape(-1,).copy()\n",
    "    ideal_f0[i] = gpitch.amtgp.midi2frec(int(midi[i]))\n",
    "    \n",
    "    Fs[i], Ss[i], F[:, 0], S[:, i], thres[i] = gpitch.amtgp.init_com_params(y=y, fs=fs, \n",
    "                                                                               maxh=maxh, \n",
    "                                                                               ideal_f0=ideal_f0[i],\n",
    "                                                                               scaled=True, \n",
    "                                                                               win_size=10)"
   ]
  },
  {
   "cell_type": "code",
   "execution_count": null,
   "metadata": {
    "scrolled": false
   },
   "outputs": [],
   "source": [
    "plt.figure(1, figsize=(16, 80))  \n",
    "plt.figure(2, figsize=(16, 80))\n",
    "nrow, ncol = 22, 4\n",
    "maxh = 20\n",
    "for i in range(0, Np):\n",
    "    y = Y[:, i].reshape(-1,1).copy()\n",
    "    \n",
    "    plt.figure(1)\n",
    "    plt.subplot(nrow, ncol, i+1)\n",
    "    plt.plot(x, y)\n",
    "    plt.legend(['pitch ' + midi[i]])\n",
    "         \n",
    "    plt.figure()\n",
    "    plt.plot(F, S[:,i]/ np.max(S[:,i]))\n",
    "    plt.plot(Fs[i], Ss[i]/np.max(Ss[i]), 'xk', mew=2)\n",
    "    plt.plot(F, 0.*S[:,i] + thres[i])\n",
    "    plt.legend(['pitch ' + midi[i]])\n",
    "    plt.xlim([0, 1.1*np.max(Fs[i])])"
   ]
  },
  {
   "cell_type": "code",
   "execution_count": null,
   "metadata": {
    "scrolled": true
   },
   "outputs": [],
   "source": [
    "plt.figure(),  plt.title('Number of harmonics in component kernel for each pitch')\n",
    "for i in range(Np):\n",
    "    plt.plot(i, Fs[i].size, '.k')"
   ]
  },
  {
   "cell_type": "code",
   "execution_count": null,
   "metadata": {},
   "outputs": [],
   "source": [
    "for i in range(Np):\n",
    "    y = Y[:, i].reshape(-1,1).copy()\n",
    "    z = np.vstack((x[::dec].copy(), x[-1].copy()))\n",
    "    \n",
    "    kern_com = gpitch.kernels.MaternSpecMix(input_dim=1, lengthscales=0.1, variances=Ss[i],\n",
    "                                            frequencies=Fs[i], Nc=Fs[i].size)\n",
    "    kern_act = gpflow.kernels.Matern32(input_dim=1, lengthscales=0.25, variance=10.)\n",
    "\n",
    "    m = gpitch.modgp.ModGP(x=x, y=y, z=z, kern_com=kern_com, kern_act=kern_act, whiten=True,\n",
    "                           minibatch_size=minibatch_size)\n",
    "    \n",
    "    m.fixed_msmkern_params(freq=False, var=True)\n",
    "    m.kern_com.lengthscales.fixed = False\n",
    "    m.kern_com.lengthscales.transform = gpflow.transforms.Logistic(0., 10.0)\n",
    "    m.kern_act.fixed = False\n",
    "    m.likelihood.variance.fixed = False\n",
    "    m.z.fixed = True\n",
    "    print('learning from ' + filel[i])\n",
    "    m.optimize_svi(maxiter=maxiter, learning_rate=learning_rate)\n",
    "    pickle.dump(m, open(saveloc + \"maps_pitch_\" + midi[i] + \".p\", \"wb\"))\n",
    "    tf.reset_default_graph()"
   ]
  },
  {
   "cell_type": "code",
   "execution_count": null,
   "metadata": {
    "collapsed": true
   },
   "outputs": [],
   "source": [
    "\n",
    "\n",
    "\n",
    "\n",
    "\n",
    "\n",
    "\n",
    "\n",
    "\n",
    "\n",
    "\n",
    "\n",
    "\n",
    "\n",
    "\n",
    "\n",
    "\n",
    "\n",
    "\n",
    "\n",
    "\n",
    "\n",
    "\n",
    "\n",
    "\n",
    "\n"
   ]
  }
 ],
 "metadata": {
  "kernelspec": {
   "display_name": "Python 2",
   "language": "python",
   "name": "python2"
  },
  "language_info": {
   "codemirror_mode": {
    "name": "ipython",
    "version": 2
   },
   "file_extension": ".py",
   "mimetype": "text/x-python",
   "name": "python",
   "nbconvert_exporter": "python",
   "pygments_lexer": "ipython2",
   "version": "2.7.14"
  }
 },
 "nbformat": 4,
 "nbformat_minor": 2
}
