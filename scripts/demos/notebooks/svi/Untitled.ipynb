{
 "cells": [
  {
   "cell_type": "code",
   "execution_count": 2,
   "metadata": {},
   "outputs": [],
   "source": [
    "import sys\n",
    "import os\n",
    "import time\n",
    "import numpy as np\n",
    "import tensorflow as tf\n",
    "import gpflow\n",
    "import soundfile\n",
    "import pickle\n",
    "sys.path.append('../../../../')\n",
    "import gpitch\n",
    "from gpitch.amtgp import logistic\n",
    "from gpitch import myplots\n",
    "import soundfile\n",
    "import peakutils\n",
    "from scipy import signal\n",
    "from scipy.fftpack import fft, ifft, ifftshift\n",
    "from scipy import signal"
   ]
  },
  {
   "cell_type": "code",
   "execution_count": 3,
   "metadata": {
    "collapsed": true
   },
   "outputs": [],
   "source": [
    "visible_device = sys.argv[1]  # configure gpu usage\n",
    "gpitch.amtgp.init_settings(visible_device=visible_device, interactive=False)"
   ]
  },
  {
   "cell_type": "code",
   "execution_count": 6,
   "metadata": {
    "collapsed": true
   },
   "outputs": [],
   "source": [
    "pickleloc = '../../../../../results/files/svi/script/'  # location saved models\n",
    "filename = '../../../../../datasets/maps/test_data/segment4-down.wav'  # loc test data\n",
    "\n",
    "bounds = [21, 109]  # pitches to detect\n",
    "midi = np.asarray([str(i) for i in range(bounds[0], bounds[1])]).reshape(-1,)  # midi list\n",
    "Np = midi.size\n",
    "fs = 16e3"
   ]
  },
  {
   "cell_type": "code",
   "execution_count": 7,
   "metadata": {},
   "outputs": [],
   "source": [
    "m = [pickle.load(open(pickleloc +\"maps_pitch_\"+ midi[i] + \".p\", \"rb\")) for i in range(Np)]\n",
    "m_bg = pickle.load(open(pickleloc + \"maps_background.p\", \"rb\")) # load background model"
   ]
  },
  {
   "cell_type": "code",
   "execution_count": 8,
   "metadata": {
    "collapsed": true
   },
   "outputs": [],
   "source": [
    "y, fs = soundfile.read(filename)\n",
    "y = y.reshape(-1, 1)\n",
    "Ntest = y.size\n",
    "x = np.linspace(0, (Ntest-1.)/fs, Ntest).reshape(-1, 1)"
   ]
  },
  {
   "cell_type": "code",
   "execution_count": 9,
   "metadata": {
    "collapsed": true
   },
   "outputs": [],
   "source": [
    "dec = 160  # decimation level\n",
    "maxiter = 2000  # max number of iterations\n",
    "mbs = 200  # mini batch size\n",
    "learning_rate = 0.01  # learning rate\n",
    "z = x[::dec].copy()  # inducing points"
   ]
  },
  {
   "cell_type": "code",
   "execution_count": 10,
   "metadata": {
    "collapsed": true
   },
   "outputs": [],
   "source": [
    "all_mean_f = [None]*Np  # lists to save results prediction for the 88 notes\n",
    "all_mean_g = [None]*Np\n",
    "all_var_f = [None]*Np\n",
    "all_var_g = [None]*Np"
   ]
  },
  {
   "cell_type": "code",
   "execution_count": 11,
   "metadata": {
    "collapsed": true
   },
   "outputs": [],
   "source": [
    "Nh = 20  # max number of harmonic for the component kernels\n",
    "ker_com_pitch = gpitch.kernels.MaternSpecMix(Nc=Nh)  # init kernels\n",
    "ker_act_pitch = gpflow.kernels.Matern32(input_dim=1, lengthscales=0.1, variance=10.)\n",
    "ker_com_bg = m_bg.kern_com\n",
    "ker_act_bg = m_bg.kern_act\n",
    "kc = [ker_com_pitch, ker_com_bg]\n",
    "ka = [ker_act_pitch, ker_act_bg]"
   ]
  },
  {
   "cell_type": "code",
   "execution_count": 12,
   "metadata": {
    "collapsed": true
   },
   "outputs": [],
   "source": [
    "mloo = gpitch.loogp.LooGP(X=x, Y=y, kf=kc, kg=ka, Z=z, minibatch_size=mbs)  # init model"
   ]
  },
  {
   "cell_type": "code",
   "execution_count": 24,
   "metadata": {},
   "outputs": [],
   "source": [
    "mloo.kern_f1.fixed = True\n",
    "mloo.kern_f2.fixed = True\n",
    "mloo.kern_g1.fixed = False\n",
    "mloo.kern_g2.fixed = False\n",
    "mloo.likelihood.variance.fixed = False"
   ]
  },
  {
   "cell_type": "code",
   "execution_count": null,
   "metadata": {
    "collapsed": true
   },
   "outputs": [],
   "source": []
  },
  {
   "cell_type": "code",
   "execution_count": null,
   "metadata": {
    "collapsed": true
   },
   "outputs": [],
   "source": [
    "\n",
    "\n",
    "\n",
    "\n",
    "\n",
    "\n",
    "\n",
    "\n",
    "\n",
    "\n",
    "\n",
    "\n",
    "\n",
    "\n",
    "\n",
    "\n",
    "\n",
    "\n",
    "\n",
    "\n",
    "\n",
    "\n",
    "\n",
    "\n",
    "\n",
    "\n",
    "\n",
    "\n"
   ]
  }
 ],
 "metadata": {
  "kernelspec": {
   "display_name": "Python 2",
   "language": "python",
   "name": "python2"
  },
  "language_info": {
   "codemirror_mode": {
    "name": "ipython",
    "version": 2
   },
   "file_extension": ".py",
   "mimetype": "text/x-python",
   "name": "python",
   "nbconvert_exporter": "python",
   "pygments_lexer": "ipython2",
   "version": "2.7.14"
  }
 },
 "nbformat": 4,
 "nbformat_minor": 2
}
