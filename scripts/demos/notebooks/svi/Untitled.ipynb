{
 "cells": [
  {
   "cell_type": "code",
   "execution_count": 1,
   "metadata": {},
   "outputs": [],
   "source": [
    "import sys\n",
    "import os\n",
    "import time\n",
    "import numpy as np\n",
    "import tensorflow as tf\n",
    "import gpflow\n",
    "import soundfile\n",
    "import pickle\n",
    "sys.path.append('../../../../')\n",
    "import gpitch\n",
    "from gpitch.amtgp import logistic\n",
    "from gpitch import myplots\n",
    "import soundfile\n",
    "import peakutils\n",
    "from scipy import signal\n",
    "from scipy.fftpack import fft, ifft, ifftshift\n",
    "from scipy import signal"
   ]
  },
  {
   "cell_type": "code",
   "execution_count": 2,
   "metadata": {
    "collapsed": true
   },
   "outputs": [],
   "source": [
    "visible_device = sys.argv[1]  # configure gpu usage\n",
    "gpitch.amtgp.init_settings(visible_device=visible_device, interactive=False)"
   ]
  },
  {
   "cell_type": "code",
   "execution_count": 3,
   "metadata": {
    "collapsed": true
   },
   "outputs": [],
   "source": [
    "pickleloc = '../../../../../results/files/svi/script/'  # location saved models\n",
    "filename = '../../../../../datasets/maps/test_data/segment4-down.wav'  # loc test dat\n",
    "bounds = [21, 109]  # pitches to detect\n",
    "midi = np.asarray([str(i) for i in range(bounds[0], bounds[1])]).reshape(-1,)  # list\n",
    "Np = midi.size\n",
    "fs = 16e3"
   ]
  },
  {
   "cell_type": "code",
   "execution_count": 4,
   "metadata": {
    "collapsed": true
   },
   "outputs": [],
   "source": [
    "models = [pickle.load(open(pickleloc +\"maps_pitch_\"+ midi[i] + \".p\", \"rb\"))\n",
    "          for i in range(Np)]\n",
    "m_bg = pickle.load(open(pickleloc + \"maps_background.p\", \"rb\")) # load background model"
   ]
  },
  {
   "cell_type": "code",
   "execution_count": 5,
   "metadata": {
    "collapsed": true
   },
   "outputs": [],
   "source": [
    "y, fs = soundfile.read(filename)\n",
    "y = y.reshape(-1, 1)\n",
    "Ntest = y.size\n",
    "x = np.linspace(0, (Ntest-1.)/fs, Ntest).reshape(-1, 1)"
   ]
  },
  {
   "cell_type": "code",
   "execution_count": 6,
   "metadata": {
    "collapsed": true
   },
   "outputs": [],
   "source": [
    "dec = 160  # decimation level\n",
    "maxiter = 10  # max number of iterations\n",
    "mbs = 200  # mini batch size\n",
    "learning_rate = 0.01  # learning rate\n",
    "z = x[::dec].copy()  # inducing points\n",
    "\n",
    "all_mean_f = [None]*Np  # lists to save results prediction for the 88 notes\n",
    "all_mean_g = [None]*Np\n",
    "all_var_f = [None]*Np\n",
    "all_var_g = [None]*Np"
   ]
  },
  {
   "cell_type": "code",
   "execution_count": 20,
   "metadata": {
    "collapsed": true
   },
   "outputs": [],
   "source": [
    "Nh = 20  # max number of harmonic for the component kernels\n",
    "ker_com_pitch = gpitch.kernels.MaternSpecMix(Nc=Nh)  # init kernels\n",
    "ker_act_pitch = gpflow.kernels.Matern32(input_dim=1, lengthscales=0.1, variance=10.)\n",
    "ker_com_bg = m_bg.kern_com\n",
    "ker_act_bg = m_bg.kern_act\n",
    "kc = [ker_com_pitch, ker_com_bg]\n",
    "ka = [ker_act_pitch, ker_act_bg]"
   ]
  },
  {
   "cell_type": "code",
   "execution_count": 21,
   "metadata": {},
   "outputs": [],
   "source": [
    "m = gpitch.loogp.LooGP(X=x, Y=y, kf=kc, kg=ka, Z=z, minibatch_size=mbs)  # init model\n",
    "\n",
    "m.kern_f1.fixed = True  # fix only component kernels\n",
    "m.kern_f2.fixed = True\n",
    "m.kern_g1.fixed = False\n",
    "m.kern_g2.fixed = False\n",
    "m.likelihood.variance.fixed = False\n",
    "m.likelihood.variance = m_bg.likelihood.variance.value.copy()  # noise learned background"
   ]
  },
  {
   "cell_type": "code",
   "execution_count": 22,
   "metadata": {},
   "outputs": [
    {
     "data": {
      "text/html": [
       "<table id='params' width=100%><tr><td>Name</td><td>values</td><td>prior</td><td>constraint</td></tr><tr><td>model.kern_f1.frequency_1</td><td>[ 1.]</td><td>None</td><td>[FIXED]</td></tr><tr><td>model.kern_f1.frequency_10</td><td>[ 10.]</td><td>None</td><td>[FIXED]</td></tr><tr><td>model.kern_f1.frequency_11</td><td>[ 11.]</td><td>None</td><td>[FIXED]</td></tr><tr><td>model.kern_f1.frequency_12</td><td>[ 12.]</td><td>None</td><td>[FIXED]</td></tr><tr><td>model.kern_f1.frequency_13</td><td>[ 13.]</td><td>None</td><td>[FIXED]</td></tr><tr><td>model.kern_f1.frequency_14</td><td>[ 14.]</td><td>None</td><td>[FIXED]</td></tr><tr><td>model.kern_f1.frequency_15</td><td>[ 15.]</td><td>None</td><td>[FIXED]</td></tr><tr><td>model.kern_f1.frequency_16</td><td>[ 16.]</td><td>None</td><td>[FIXED]</td></tr><tr><td>model.kern_f1.frequency_17</td><td>[ 17.]</td><td>None</td><td>[FIXED]</td></tr><tr><td>model.kern_f1.frequency_18</td><td>[ 18.]</td><td>None</td><td>[FIXED]</td></tr><tr><td>model.kern_f1.frequency_19</td><td>[ 19.]</td><td>None</td><td>[FIXED]</td></tr><tr><td>model.kern_f1.frequency_2</td><td>[ 2.]</td><td>None</td><td>[FIXED]</td></tr><tr><td>model.kern_f1.frequency_20</td><td>[ 20.]</td><td>None</td><td>[FIXED]</td></tr><tr><td>model.kern_f1.frequency_3</td><td>[ 3.]</td><td>None</td><td>[FIXED]</td></tr><tr><td>model.kern_f1.frequency_4</td><td>[ 4.]</td><td>None</td><td>[FIXED]</td></tr><tr><td>model.kern_f1.frequency_5</td><td>[ 5.]</td><td>None</td><td>[FIXED]</td></tr><tr><td>model.kern_f1.frequency_6</td><td>[ 6.]</td><td>None</td><td>[FIXED]</td></tr><tr><td>model.kern_f1.frequency_7</td><td>[ 7.]</td><td>None</td><td>[FIXED]</td></tr><tr><td>model.kern_f1.frequency_8</td><td>[ 8.]</td><td>None</td><td>[FIXED]</td></tr><tr><td>model.kern_f1.frequency_9</td><td>[ 9.]</td><td>None</td><td>[FIXED]</td></tr><tr><td>model.kern_f1.lengthscales</td><td>[ 0.05]</td><td>None</td><td>[FIXED]</td></tr><tr><td>model.kern_f1.variance_1</td><td>[ 0.125]</td><td>None</td><td>[FIXED]</td></tr><tr><td>model.kern_f1.variance_10</td><td>[ 0.125]</td><td>None</td><td>[FIXED]</td></tr><tr><td>model.kern_f1.variance_11</td><td>[ 0.125]</td><td>None</td><td>[FIXED]</td></tr><tr><td>model.kern_f1.variance_12</td><td>[ 0.125]</td><td>None</td><td>[FIXED]</td></tr><tr><td>model.kern_f1.variance_13</td><td>[ 0.125]</td><td>None</td><td>[FIXED]</td></tr><tr><td>model.kern_f1.variance_14</td><td>[ 0.125]</td><td>None</td><td>[FIXED]</td></tr><tr><td>model.kern_f1.variance_15</td><td>[ 0.125]</td><td>None</td><td>[FIXED]</td></tr><tr><td>model.kern_f1.variance_16</td><td>[ 0.125]</td><td>None</td><td>[FIXED]</td></tr><tr><td>model.kern_f1.variance_17</td><td>[ 0.125]</td><td>None</td><td>[FIXED]</td></tr><tr><td>model.kern_f1.variance_18</td><td>[ 0.125]</td><td>None</td><td>[FIXED]</td></tr><tr><td>model.kern_f1.variance_19</td><td>[ 0.125]</td><td>None</td><td>[FIXED]</td></tr><tr><td>model.kern_f1.variance_2</td><td>[ 0.125]</td><td>None</td><td>[FIXED]</td></tr><tr><td>model.kern_f1.variance_20</td><td>[ 0.125]</td><td>None</td><td>[FIXED]</td></tr><tr><td>model.kern_f1.variance_3</td><td>[ 0.125]</td><td>None</td><td>[FIXED]</td></tr><tr><td>model.kern_f1.variance_4</td><td>[ 0.125]</td><td>None</td><td>[FIXED]</td></tr><tr><td>model.kern_f1.variance_5</td><td>[ 0.125]</td><td>None</td><td>[FIXED]</td></tr><tr><td>model.kern_f1.variance_6</td><td>[ 0.125]</td><td>None</td><td>[FIXED]</td></tr><tr><td>model.kern_f1.variance_7</td><td>[ 0.125]</td><td>None</td><td>[FIXED]</td></tr><tr><td>model.kern_f1.variance_8</td><td>[ 0.125]</td><td>None</td><td>[FIXED]</td></tr><tr><td>model.kern_f1.variance_9</td><td>[ 0.125]</td><td>None</td><td>[FIXED]</td></tr><tr><td>model.kern_f2.frequency_1</td><td>[ 261.38935946]</td><td>None</td><td>[FIXED]</td></tr><tr><td>model.kern_f2.frequency_10</td><td>[ 1312.75039247]</td><td>None</td><td>[FIXED]</td></tr><tr><td>model.kern_f2.frequency_11</td><td>[ 1578.46227266]</td><td>None</td><td>[FIXED]</td></tr><tr><td>model.kern_f2.frequency_12</td><td>[ 1647.22185637]</td><td>None</td><td>[FIXED]</td></tr><tr><td>model.kern_f2.frequency_13</td><td>[ 1845.45908592]</td><td>None</td><td>[FIXED]</td></tr><tr><td>model.kern_f2.frequency_14</td><td>[ 1980.97177366]</td><td>None</td><td>[FIXED]</td></tr><tr><td>model.kern_f2.frequency_15</td><td>[ 2111.71854703]</td><td>None</td><td>[FIXED]</td></tr><tr><td>model.kern_f2.frequency_16</td><td>[ 2649.41020783]</td><td>None</td><td>[FIXED]</td></tr><tr><td>model.kern_f2.frequency_17</td><td>[ 2775.14610983]</td><td>None</td><td>[FIXED]</td></tr><tr><td>model.kern_f2.frequency_18</td><td>[ 2932.47977726]</td><td>None</td><td>[FIXED]</td></tr><tr><td>model.kern_f2.frequency_19</td><td>[ 3196.11564702]</td><td>None</td><td>[FIXED]</td></tr><tr><td>model.kern_f2.frequency_2</td><td>[ 327.59950808]</td><td>None</td><td>[FIXED]</td></tr><tr><td>model.kern_f2.frequency_3</td><td>[ 390.95238846]</td><td>None</td><td>[FIXED]</td></tr><tr><td>model.kern_f2.frequency_4</td><td>[ 523.46326912]</td><td>None</td><td>[FIXED]</td></tr><tr><td>model.kern_f2.frequency_5</td><td>[ 655.65156197]</td><td>None</td><td>[FIXED]</td></tr><tr><td>model.kern_f2.frequency_6</td><td>[ 785.37344845]</td><td>None</td><td>[FIXED]</td></tr><tr><td>model.kern_f2.frequency_7</td><td>[ 983.59887838]</td><td>None</td><td>[FIXED]</td></tr><tr><td>model.kern_f2.frequency_8</td><td>[ 1048.44385228]</td><td>None</td><td>[FIXED]</td></tr><tr><td>model.kern_f2.frequency_9</td><td>[ 1175.078824]</td><td>None</td><td>[FIXED]</td></tr><tr><td>model.kern_f2.lengthscales</td><td>[ 1.76338529]</td><td>None</td><td>[FIXED]</td></tr><tr><td>model.kern_f2.variance_1</td><td>[ 0.03839539]</td><td>None</td><td>[FIXED]</td></tr><tr><td>model.kern_f2.variance_10</td><td>[ 0.00461477]</td><td>None</td><td>[FIXED]</td></tr><tr><td>model.kern_f2.variance_11</td><td>[ 0.00589333]</td><td>None</td><td>[FIXED]</td></tr><tr><td>model.kern_f2.variance_12</td><td>[ 0.00806637]</td><td>None</td><td>[FIXED]</td></tr><tr><td>model.kern_f2.variance_13</td><td>[ 0.01011483]</td><td>None</td><td>[FIXED]</td></tr><tr><td>model.kern_f2.variance_14</td><td>[ 0.00390248]</td><td>None</td><td>[FIXED]</td></tr><tr><td>model.kern_f2.variance_15</td><td>[ 0.00785408]</td><td>None</td><td>[FIXED]</td></tr><tr><td>model.kern_f2.variance_16</td><td>[ 0.00514717]</td><td>None</td><td>[FIXED]</td></tr><tr><td>model.kern_f2.variance_17</td><td>[ 0.00164478]</td><td>None</td><td>[FIXED]</td></tr><tr><td>model.kern_f2.variance_18</td><td>[ 0.00214104]</td><td>None</td><td>[FIXED]</td></tr><tr><td>model.kern_f2.variance_19</td><td>[ 0.00241875]</td><td>None</td><td>[FIXED]</td></tr><tr><td>model.kern_f2.variance_2</td><td>[ 0.03479095]</td><td>None</td><td>[FIXED]</td></tr><tr><td>model.kern_f2.variance_3</td><td>[ 0.03972852]</td><td>None</td><td>[FIXED]</td></tr><tr><td>model.kern_f2.variance_4</td><td>[ 0.02698926]</td><td>None</td><td>[FIXED]</td></tr><tr><td>model.kern_f2.variance_5</td><td>[ 0.01731873]</td><td>None</td><td>[FIXED]</td></tr><tr><td>model.kern_f2.variance_6</td><td>[ 0.01604142]</td><td>None</td><td>[FIXED]</td></tr><tr><td>model.kern_f2.variance_7</td><td>[ 0.00871592]</td><td>None</td><td>[FIXED]</td></tr><tr><td>model.kern_f2.variance_8</td><td>[ 0.01392402]</td><td>None</td><td>[FIXED]</td></tr><tr><td>model.kern_f2.variance_9</td><td>[ 0.00229818]</td><td>None</td><td>[FIXED]</td></tr><tr><td>model.kern_g1.lengthscales</td><td>[ 0.1]</td><td>None</td><td>+ve</td></tr><tr><td>model.kern_g1.variance</td><td>[ 10.]</td><td>None</td><td>+ve</td></tr><tr><td>model.kern_g2.lengthscales</td><td>[ 0.16905803]</td><td>None</td><td>+ve</td></tr><tr><td>model.kern_g2.variance</td><td>[ 2.54613233]</td><td>None</td><td>+ve</td></tr><tr><td>model.likelihood.variance</td><td>[ 0.00836698]</td><td>None</td><td>+ve</td></tr><tr><td>model.q_mu1</td><td>[[ 0.]</br> [ 0.]</br> [ 0.]</br> [ 0.]</br> [ 0.]</br> [ 0.]</br> [ 0.]</br> [ 0.]</br> [ 0.]</br> [ 0.]</br> [ 0.]</br> [ 0.]</br> [ 0.]</br> [ 0.]</br> [ 0.]</br> [ 0.]</br> [ 0.]</br> [ 0.]</br> [ 0.]</br> [ 0.]</br> [ 0.]</br> [ 0.]</br> [ 0.]</br> [ 0.]</br> [ 0.]</br> [ 0.]</br> [ 0.]</br> [ 0.]</br> [ 0.]</br> [ 0.]</br> [ 0.]</br> [ 0.]</br> [ 0.]</br> [ 0.]</br> [ 0.]</br> [ 0.]</br> [ 0.]</br> [ 0.]</br> [ 0.]</br> [ 0.]</br> [ 0.]</br> [ 0.]</br> [ 0.]</br> [ 0.]</br> [ 0.]</br> [ 0.]</br> [ 0.]</br> [ 0.]</br> [ 0.]</br> [ 0.]</br> [ 0.]</br> [ 0.]</br> [ 0.]</br> [ 0.]</br> [ 0.]</br> [ 0.]</br> [ 0.]</br> [ 0.]</br> [ 0.]</br> [ 0.]</br> [ 0.]</br> [ 0.]</br> [ 0.]</br> [ 0.]</br> [ 0.]</br> [ 0.]</br> [ 0.]</br> [ 0.]</br> [ 0.]</br> [ 0.]</br> [ 0.]</br> [ 0.]</br> [ 0.]</br> [ 0.]</br> [ 0.]</br> [ 0.]</br> [ 0.]</br> [ 0.]</br> [ 0.]</br> [ 0.]</br> [ 0.]</br> [ 0.]</br> [ 0.]</br> [ 0.]</br> [ 0.]</br> [ 0.]</br> [ 0.]</br> [ 0.]</br> [ 0.]</br> [ 0.]</br> [ 0.]</br> [ 0.]</br> [ 0.]</br> [ 0.]</br> [ 0.]</br> [ 0.]</br> [ 0.]</br> [ 0.]</br> [ 0.]</br> [ 0.]</br> [ 0.]</br> [ 0.]</br> [ 0.]</br> [ 0.]</br> [ 0.]</br> [ 0.]</br> [ 0.]</br> [ 0.]</br> [ 0.]</br> [ 0.]</br> [ 0.]</br> [ 0.]</br> [ 0.]</br> [ 0.]</br> [ 0.]</br> [ 0.]</br> [ 0.]</br> [ 0.]</br> [ 0.]</br> [ 0.]</br> [ 0.]</br> [ 0.]</br> [ 0.]</br> [ 0.]</br> [ 0.]</br> [ 0.]</br> [ 0.]</br> [ 0.]</br> [ 0.]</br> [ 0.]</br> [ 0.]</br> [ 0.]</br> [ 0.]</br> [ 0.]</br> [ 0.]</br> [ 0.]</br> [ 0.]</br> [ 0.]</br> [ 0.]</br> [ 0.]</br> [ 0.]</br> [ 0.]</br> [ 0.]</br> [ 0.]</br> [ 0.]</br> [ 0.]</br> [ 0.]</br> [ 0.]</br> [ 0.]</br> [ 0.]</br> [ 0.]</br> [ 0.]</br> [ 0.]</br> [ 0.]</br> [ 0.]</br> [ 0.]</br> [ 0.]</br> [ 0.]</br> [ 0.]</br> [ 0.]</br> [ 0.]</br> [ 0.]</br> [ 0.]</br> [ 0.]</br> [ 0.]</br> [ 0.]</br> [ 0.]</br> [ 0.]</br> [ 0.]</br> [ 0.]</br> [ 0.]</br> [ 0.]</br> [ 0.]</br> [ 0.]</br> [ 0.]</br> [ 0.]</br> [ 0.]</br> [ 0.]</br> [ 0.]</br> [ 0.]</br> [ 0.]</br> [ 0.]</br> [ 0.]</br> [ 0.]</br> [ 0.]</br> [ 0.]</br> [ 0.]</br> [ 0.]</br> [ 0.]</br> [ 0.]</br> [ 0.]</br> [ 0.]</br> [ 0.]</br> [ 0.]</br> [ 0.]</br> [ 0.]</br> [ 0.]</br> [ 0.]</br> [ 0.]</br> [ 0.]]</td><td>None</td><td>(none)</td></tr><tr><td>model.q_mu2</td><td>[[ 0.]</br> [ 0.]</br> [ 0.]</br> [ 0.]</br> [ 0.]</br> [ 0.]</br> [ 0.]</br> [ 0.]</br> [ 0.]</br> [ 0.]</br> [ 0.]</br> [ 0.]</br> [ 0.]</br> [ 0.]</br> [ 0.]</br> [ 0.]</br> [ 0.]</br> [ 0.]</br> [ 0.]</br> [ 0.]</br> [ 0.]</br> [ 0.]</br> [ 0.]</br> [ 0.]</br> [ 0.]</br> [ 0.]</br> [ 0.]</br> [ 0.]</br> [ 0.]</br> [ 0.]</br> [ 0.]</br> [ 0.]</br> [ 0.]</br> [ 0.]</br> [ 0.]</br> [ 0.]</br> [ 0.]</br> [ 0.]</br> [ 0.]</br> [ 0.]</br> [ 0.]</br> [ 0.]</br> [ 0.]</br> [ 0.]</br> [ 0.]</br> [ 0.]</br> [ 0.]</br> [ 0.]</br> [ 0.]</br> [ 0.]</br> [ 0.]</br> [ 0.]</br> [ 0.]</br> [ 0.]</br> [ 0.]</br> [ 0.]</br> [ 0.]</br> [ 0.]</br> [ 0.]</br> [ 0.]</br> [ 0.]</br> [ 0.]</br> [ 0.]</br> [ 0.]</br> [ 0.]</br> [ 0.]</br> [ 0.]</br> [ 0.]</br> [ 0.]</br> [ 0.]</br> [ 0.]</br> [ 0.]</br> [ 0.]</br> [ 0.]</br> [ 0.]</br> [ 0.]</br> [ 0.]</br> [ 0.]</br> [ 0.]</br> [ 0.]</br> [ 0.]</br> [ 0.]</br> [ 0.]</br> [ 0.]</br> [ 0.]</br> [ 0.]</br> [ 0.]</br> [ 0.]</br> [ 0.]</br> [ 0.]</br> [ 0.]</br> [ 0.]</br> [ 0.]</br> [ 0.]</br> [ 0.]</br> [ 0.]</br> [ 0.]</br> [ 0.]</br> [ 0.]</br> [ 0.]</br> [ 0.]</br> [ 0.]</br> [ 0.]</br> [ 0.]</br> [ 0.]</br> [ 0.]</br> [ 0.]</br> [ 0.]</br> [ 0.]</br> [ 0.]</br> [ 0.]</br> [ 0.]</br> [ 0.]</br> [ 0.]</br> [ 0.]</br> [ 0.]</br> [ 0.]</br> [ 0.]</br> [ 0.]</br> [ 0.]</br> [ 0.]</br> [ 0.]</br> [ 0.]</br> [ 0.]</br> [ 0.]</br> [ 0.]</br> [ 0.]</br> [ 0.]</br> [ 0.]</br> [ 0.]</br> [ 0.]</br> [ 0.]</br> [ 0.]</br> [ 0.]</br> [ 0.]</br> [ 0.]</br> [ 0.]</br> [ 0.]</br> [ 0.]</br> [ 0.]</br> [ 0.]</br> [ 0.]</br> [ 0.]</br> [ 0.]</br> [ 0.]</br> [ 0.]</br> [ 0.]</br> [ 0.]</br> [ 0.]</br> [ 0.]</br> [ 0.]</br> [ 0.]</br> [ 0.]</br> [ 0.]</br> [ 0.]</br> [ 0.]</br> [ 0.]</br> [ 0.]</br> [ 0.]</br> [ 0.]</br> [ 0.]</br> [ 0.]</br> [ 0.]</br> [ 0.]</br> [ 0.]</br> [ 0.]</br> [ 0.]</br> [ 0.]</br> [ 0.]</br> [ 0.]</br> [ 0.]</br> [ 0.]</br> [ 0.]</br> [ 0.]</br> [ 0.]</br> [ 0.]</br> [ 0.]</br> [ 0.]</br> [ 0.]</br> [ 0.]</br> [ 0.]</br> [ 0.]</br> [ 0.]</br> [ 0.]</br> [ 0.]</br> [ 0.]</br> [ 0.]</br> [ 0.]</br> [ 0.]</br> [ 0.]</br> [ 0.]</br> [ 0.]</br> [ 0.]</br> [ 0.]</br> [ 0.]</br> [ 0.]</br> [ 0.]</br> [ 0.]</br> [ 0.]</br> [ 0.]]</td><td>None</td><td>(none)</td></tr><tr><td>model.q_mu3</td><td>[[ 0.]</br> [ 0.]</br> [ 0.]</br> [ 0.]</br> [ 0.]</br> [ 0.]</br> [ 0.]</br> [ 0.]</br> [ 0.]</br> [ 0.]</br> [ 0.]</br> [ 0.]</br> [ 0.]</br> [ 0.]</br> [ 0.]</br> [ 0.]</br> [ 0.]</br> [ 0.]</br> [ 0.]</br> [ 0.]</br> [ 0.]</br> [ 0.]</br> [ 0.]</br> [ 0.]</br> [ 0.]</br> [ 0.]</br> [ 0.]</br> [ 0.]</br> [ 0.]</br> [ 0.]</br> [ 0.]</br> [ 0.]</br> [ 0.]</br> [ 0.]</br> [ 0.]</br> [ 0.]</br> [ 0.]</br> [ 0.]</br> [ 0.]</br> [ 0.]</br> [ 0.]</br> [ 0.]</br> [ 0.]</br> [ 0.]</br> [ 0.]</br> [ 0.]</br> [ 0.]</br> [ 0.]</br> [ 0.]</br> [ 0.]</br> [ 0.]</br> [ 0.]</br> [ 0.]</br> [ 0.]</br> [ 0.]</br> [ 0.]</br> [ 0.]</br> [ 0.]</br> [ 0.]</br> [ 0.]</br> [ 0.]</br> [ 0.]</br> [ 0.]</br> [ 0.]</br> [ 0.]</br> [ 0.]</br> [ 0.]</br> [ 0.]</br> [ 0.]</br> [ 0.]</br> [ 0.]</br> [ 0.]</br> [ 0.]</br> [ 0.]</br> [ 0.]</br> [ 0.]</br> [ 0.]</br> [ 0.]</br> [ 0.]</br> [ 0.]</br> [ 0.]</br> [ 0.]</br> [ 0.]</br> [ 0.]</br> [ 0.]</br> [ 0.]</br> [ 0.]</br> [ 0.]</br> [ 0.]</br> [ 0.]</br> [ 0.]</br> [ 0.]</br> [ 0.]</br> [ 0.]</br> [ 0.]</br> [ 0.]</br> [ 0.]</br> [ 0.]</br> [ 0.]</br> [ 0.]</br> [ 0.]</br> [ 0.]</br> [ 0.]</br> [ 0.]</br> [ 0.]</br> [ 0.]</br> [ 0.]</br> [ 0.]</br> [ 0.]</br> [ 0.]</br> [ 0.]</br> [ 0.]</br> [ 0.]</br> [ 0.]</br> [ 0.]</br> [ 0.]</br> [ 0.]</br> [ 0.]</br> [ 0.]</br> [ 0.]</br> [ 0.]</br> [ 0.]</br> [ 0.]</br> [ 0.]</br> [ 0.]</br> [ 0.]</br> [ 0.]</br> [ 0.]</br> [ 0.]</br> [ 0.]</br> [ 0.]</br> [ 0.]</br> [ 0.]</br> [ 0.]</br> [ 0.]</br> [ 0.]</br> [ 0.]</br> [ 0.]</br> [ 0.]</br> [ 0.]</br> [ 0.]</br> [ 0.]</br> [ 0.]</br> [ 0.]</br> [ 0.]</br> [ 0.]</br> [ 0.]</br> [ 0.]</br> [ 0.]</br> [ 0.]</br> [ 0.]</br> [ 0.]</br> [ 0.]</br> [ 0.]</br> [ 0.]</br> [ 0.]</br> [ 0.]</br> [ 0.]</br> [ 0.]</br> [ 0.]</br> [ 0.]</br> [ 0.]</br> [ 0.]</br> [ 0.]</br> [ 0.]</br> [ 0.]</br> [ 0.]</br> [ 0.]</br> [ 0.]</br> [ 0.]</br> [ 0.]</br> [ 0.]</br> [ 0.]</br> [ 0.]</br> [ 0.]</br> [ 0.]</br> [ 0.]</br> [ 0.]</br> [ 0.]</br> [ 0.]</br> [ 0.]</br> [ 0.]</br> [ 0.]</br> [ 0.]</br> [ 0.]</br> [ 0.]</br> [ 0.]</br> [ 0.]</br> [ 0.]</br> [ 0.]</br> [ 0.]</br> [ 0.]</br> [ 0.]</br> [ 0.]</br> [ 0.]</br> [ 0.]</br> [ 0.]</br> [ 0.]</br> [ 0.]</br> [ 0.]]</td><td>None</td><td>(none)</td></tr><tr><td>model.q_mu4</td><td>[[ 0.]</br> [ 0.]</br> [ 0.]</br> [ 0.]</br> [ 0.]</br> [ 0.]</br> [ 0.]</br> [ 0.]</br> [ 0.]</br> [ 0.]</br> [ 0.]</br> [ 0.]</br> [ 0.]</br> [ 0.]</br> [ 0.]</br> [ 0.]</br> [ 0.]</br> [ 0.]</br> [ 0.]</br> [ 0.]</br> [ 0.]</br> [ 0.]</br> [ 0.]</br> [ 0.]</br> [ 0.]</br> [ 0.]</br> [ 0.]</br> [ 0.]</br> [ 0.]</br> [ 0.]</br> [ 0.]</br> [ 0.]</br> [ 0.]</br> [ 0.]</br> [ 0.]</br> [ 0.]</br> [ 0.]</br> [ 0.]</br> [ 0.]</br> [ 0.]</br> [ 0.]</br> [ 0.]</br> [ 0.]</br> [ 0.]</br> [ 0.]</br> [ 0.]</br> [ 0.]</br> [ 0.]</br> [ 0.]</br> [ 0.]</br> [ 0.]</br> [ 0.]</br> [ 0.]</br> [ 0.]</br> [ 0.]</br> [ 0.]</br> [ 0.]</br> [ 0.]</br> [ 0.]</br> [ 0.]</br> [ 0.]</br> [ 0.]</br> [ 0.]</br> [ 0.]</br> [ 0.]</br> [ 0.]</br> [ 0.]</br> [ 0.]</br> [ 0.]</br> [ 0.]</br> [ 0.]</br> [ 0.]</br> [ 0.]</br> [ 0.]</br> [ 0.]</br> [ 0.]</br> [ 0.]</br> [ 0.]</br> [ 0.]</br> [ 0.]</br> [ 0.]</br> [ 0.]</br> [ 0.]</br> [ 0.]</br> [ 0.]</br> [ 0.]</br> [ 0.]</br> [ 0.]</br> [ 0.]</br> [ 0.]</br> [ 0.]</br> [ 0.]</br> [ 0.]</br> [ 0.]</br> [ 0.]</br> [ 0.]</br> [ 0.]</br> [ 0.]</br> [ 0.]</br> [ 0.]</br> [ 0.]</br> [ 0.]</br> [ 0.]</br> [ 0.]</br> [ 0.]</br> [ 0.]</br> [ 0.]</br> [ 0.]</br> [ 0.]</br> [ 0.]</br> [ 0.]</br> [ 0.]</br> [ 0.]</br> [ 0.]</br> [ 0.]</br> [ 0.]</br> [ 0.]</br> [ 0.]</br> [ 0.]</br> [ 0.]</br> [ 0.]</br> [ 0.]</br> [ 0.]</br> [ 0.]</br> [ 0.]</br> [ 0.]</br> [ 0.]</br> [ 0.]</br> [ 0.]</br> [ 0.]</br> [ 0.]</br> [ 0.]</br> [ 0.]</br> [ 0.]</br> [ 0.]</br> [ 0.]</br> [ 0.]</br> [ 0.]</br> [ 0.]</br> [ 0.]</br> [ 0.]</br> [ 0.]</br> [ 0.]</br> [ 0.]</br> [ 0.]</br> [ 0.]</br> [ 0.]</br> [ 0.]</br> [ 0.]</br> [ 0.]</br> [ 0.]</br> [ 0.]</br> [ 0.]</br> [ 0.]</br> [ 0.]</br> [ 0.]</br> [ 0.]</br> [ 0.]</br> [ 0.]</br> [ 0.]</br> [ 0.]</br> [ 0.]</br> [ 0.]</br> [ 0.]</br> [ 0.]</br> [ 0.]</br> [ 0.]</br> [ 0.]</br> [ 0.]</br> [ 0.]</br> [ 0.]</br> [ 0.]</br> [ 0.]</br> [ 0.]</br> [ 0.]</br> [ 0.]</br> [ 0.]</br> [ 0.]</br> [ 0.]</br> [ 0.]</br> [ 0.]</br> [ 0.]</br> [ 0.]</br> [ 0.]</br> [ 0.]</br> [ 0.]</br> [ 0.]</br> [ 0.]</br> [ 0.]</br> [ 0.]</br> [ 0.]</br> [ 0.]</br> [ 0.]</br> [ 0.]</br> [ 0.]</br> [ 0.]</br> [ 0.]</br> [ 0.]</br> [ 0.]</br> [ 0.]]</td><td>None</td><td>(none)</td></tr><tr><td>model.q_sqrt1</td><td>[[[ 1.]</br>  [ 0.]</br>  [ 0.]</br>  ..., </br>  [ 0.]</br>  [ 0.]</br>  [ 0.]]</br></br> [[ 0.]</br>  [ 1.]</br>  [ 0.]</br>  ..., </br>  [ 0.]</br>  [ 0.]</br>  [ 0.]]</br></br> [[ 0.]</br>  [ 0.]</br>  [ 1.]</br>  ..., </br>  [ 0.]</br>  [ 0.]</br>  [ 0.]]</br></br> ..., </br> [[ 0.]</br>  [ 0.]</br>  [ 0.]</br>  ..., </br>  [ 1.]</br>  [ 0.]</br>  [ 0.]]</br></br> [[ 0.]</br>  [ 0.]</br>  [ 0.]</br>  ..., </br>  [ 0.]</br>  [ 1.]</br>  [ 0.]]</br></br> [[ 0.]</br>  [ 0.]</br>  [ 0.]</br>  ..., </br>  [ 0.]</br>  [ 0.]</br>  [ 1.]]]</td><td>None</td><td>(none)</td></tr><tr><td>model.q_sqrt2</td><td>[[[ 1.]</br>  [ 0.]</br>  [ 0.]</br>  ..., </br>  [ 0.]</br>  [ 0.]</br>  [ 0.]]</br></br> [[ 0.]</br>  [ 1.]</br>  [ 0.]</br>  ..., </br>  [ 0.]</br>  [ 0.]</br>  [ 0.]]</br></br> [[ 0.]</br>  [ 0.]</br>  [ 1.]</br>  ..., </br>  [ 0.]</br>  [ 0.]</br>  [ 0.]]</br></br> ..., </br> [[ 0.]</br>  [ 0.]</br>  [ 0.]</br>  ..., </br>  [ 1.]</br>  [ 0.]</br>  [ 0.]]</br></br> [[ 0.]</br>  [ 0.]</br>  [ 0.]</br>  ..., </br>  [ 0.]</br>  [ 1.]</br>  [ 0.]]</br></br> [[ 0.]</br>  [ 0.]</br>  [ 0.]</br>  ..., </br>  [ 0.]</br>  [ 0.]</br>  [ 1.]]]</td><td>None</td><td>(none)</td></tr><tr><td>model.q_sqrt3</td><td>[[[ 1.]</br>  [ 0.]</br>  [ 0.]</br>  ..., </br>  [ 0.]</br>  [ 0.]</br>  [ 0.]]</br></br> [[ 0.]</br>  [ 1.]</br>  [ 0.]</br>  ..., </br>  [ 0.]</br>  [ 0.]</br>  [ 0.]]</br></br> [[ 0.]</br>  [ 0.]</br>  [ 1.]</br>  ..., </br>  [ 0.]</br>  [ 0.]</br>  [ 0.]]</br></br> ..., </br> [[ 0.]</br>  [ 0.]</br>  [ 0.]</br>  ..., </br>  [ 1.]</br>  [ 0.]</br>  [ 0.]]</br></br> [[ 0.]</br>  [ 0.]</br>  [ 0.]</br>  ..., </br>  [ 0.]</br>  [ 1.]</br>  [ 0.]]</br></br> [[ 0.]</br>  [ 0.]</br>  [ 0.]</br>  ..., </br>  [ 0.]</br>  [ 0.]</br>  [ 1.]]]</td><td>None</td><td>(none)</td></tr><tr><td>model.q_sqrt4</td><td>[[[ 1.]</br>  [ 0.]</br>  [ 0.]</br>  ..., </br>  [ 0.]</br>  [ 0.]</br>  [ 0.]]</br></br> [[ 0.]</br>  [ 1.]</br>  [ 0.]</br>  ..., </br>  [ 0.]</br>  [ 0.]</br>  [ 0.]]</br></br> [[ 0.]</br>  [ 0.]</br>  [ 1.]</br>  ..., </br>  [ 0.]</br>  [ 0.]</br>  [ 0.]]</br></br> ..., </br> [[ 0.]</br>  [ 0.]</br>  [ 0.]</br>  ..., </br>  [ 1.]</br>  [ 0.]</br>  [ 0.]]</br></br> [[ 0.]</br>  [ 0.]</br>  [ 0.]</br>  ..., </br>  [ 0.]</br>  [ 1.]</br>  [ 0.]]</br></br> [[ 0.]</br>  [ 0.]</br>  [ 0.]</br>  ..., </br>  [ 0.]</br>  [ 0.]</br>  [ 1.]]]</td><td>None</td><td>(none)</td></tr></table>"
      ],
      "text/plain": [
       "<gpitch.loogp.LooGP at 0x7f81434d8890>"
      ]
     },
     "execution_count": 22,
     "metadata": {},
     "output_type": "execute_result"
    }
   ],
   "source": [
    "m"
   ]
  },
  {
   "cell_type": "code",
   "execution_count": 26,
   "metadata": {
    "scrolled": true
   },
   "outputs": [
    {
     "name": "stdout",
     "output_type": "stream",
     "text": [
      "Analysing pitch 21\n",
      "Analysing pitch 22\n",
      "Analysing pitch 23\n",
      "Analysing pitch 24\n",
      "Analysing pitch 25\n",
      "Analysing pitch 26\n",
      "Analysing pitch 27\n",
      "Analysing pitch 28\n",
      "Analysing pitch 29\n",
      "Analysing pitch 30\n",
      "Analysing pitch 31\n",
      "Analysing pitch 32\n",
      "Analysing pitch 33\n",
      "Analysing pitch 34\n",
      "Analysing pitch 35\n",
      "Analysing pitch 36\n",
      "Analysing pitch 37\n",
      "Analysing pitch 38\n",
      "Analysing pitch 39\n",
      "Analysing pitch 40\n",
      "Analysing pitch 41\n",
      "Analysing pitch 42\n",
      "Analysing pitch 43\n",
      "Analysing pitch 44\n",
      "Analysing pitch 45\n",
      "Analysing pitch 46\n",
      "Analysing pitch 47\n",
      "Analysing pitch 48\n",
      "Analysing pitch 49\n",
      "Analysing pitch 50\n",
      "Analysing pitch 51\n",
      "Analysing pitch 52\n",
      "Analysing pitch 53\n",
      "Analysing pitch 54\n",
      "Analysing pitch 55\n",
      "Analysing pitch 56\n",
      "Analysing pitch 57\n",
      "Analysing pitch 58\n",
      "Analysing pitch 59\n",
      "Analysing pitch 60\n",
      "Analysing pitch 61\n",
      "Analysing pitch 62\n",
      "Analysing pitch 63\n",
      "Analysing pitch 64\n",
      "Analysing pitch 65\n",
      "Analysing pitch 66\n",
      "Analysing pitch 67\n",
      "Analysing pitch 68\n",
      "Analysing pitch 69\n",
      "Analysing pitch 70\n",
      "Analysing pitch 71\n",
      "Analysing pitch 72\n",
      "Analysing pitch 73\n",
      "Analysing pitch 74\n",
      "Analysing pitch 75\n",
      "Analysing pitch 76\n",
      "Analysing pitch 77\n",
      "Analysing pitch 78\n",
      "Analysing pitch 79\n",
      "Analysing pitch 80\n"
     ]
    }
   ],
   "source": [
    "for i in range(60):\n",
    "    print('Analysing pitch ' + str(midi[i]))\n",
    "    dpc = models[i].kern_com.get_parameter_dict().copy()  # dictionary params component\n",
    "    dpa = models[i].kern_act.get_parameter_dict().copy() # dictionary params activation\n",
    "    m.update_params_graph(dic_par_com=dpc, dic_par_act=dpa)  # update hyperparams\n",
    "\n",
    "    m.q_mu1 = np.zeros(m.Z.shape)  # init values of variational parameters\n",
    "    m.q_mu2 = np.zeros(m.Z.shape)\n",
    "    m.q_mu3 = np.zeros(m.Z.shape)\n",
    "    m.q_mu4 = np.zeros(m.Z.shape)\n",
    "    m.q_sqrt1 = np.expand_dims(np.eye(m.Z.size), 2)\n",
    "    m.q_sqrt2 = np.expand_dims(np.eye(m.Z.size), 2)\n",
    "    m.q_sqrt3 = np.expand_dims(np.eye(m.Z.size), 2)\n",
    "    m.q_sqrt4 = np.expand_dims(np.eye(m.Z.size), 2)\n",
    "\n",
    "    #m.optimize(disp=0, maxiter=maxiter)  # optimize\n",
    "    #\n",
    "    #m.optimize(method=tf.train.AdamOptimizer(learning_rate=learning_rate),\n",
    "                # maxiter=maxiter)\n",
    "    #m.optimize_svi(maxiter=maxiter, learning_rate=learning_rate)  # optimize\n",
    "\n",
    "#     mean_f, var_f, mean_g, var_g = m.predict_all(x)  # predict\n",
    "#     all_mean_f[i] = list(mean_f)  # save results on list\n",
    "#     all_mean_g[i] = list(mean_g)\n",
    "#     all_var_f[i] = list(var_f)\n",
    "#     all_var_g[i] = list(var_g)\n",
    "\n",
    "# piano_roll = np.zeros((Np, Ntest))\n",
    "# for i in range(Np):\n",
    "#     source = logistic(all_mean_g[i][0]) * all_mean_f[i][0]\n",
    "#     piano_roll[i, :] = source.copy()\n",
    "\n",
    "# pickle.dump(piano_roll, open( pickleloc + \"piano_roll_maps_88_more_iterations.p\",\n",
    "#             \"wb\"))"
   ]
  },
  {
   "cell_type": "code",
   "execution_count": 27,
   "metadata": {},
   "outputs": [
    {
     "data": {
      "text/html": [
       "<table id='params' width=100%><tr><td>Name</td><td>values</td><td>prior</td><td>constraint</td></tr><tr><td>model.kern_f1.frequency_1</td><td>[ 827.070839]</td><td>None</td><td>[FIXED]</td></tr><tr><td>model.kern_f1.frequency_10</td><td>[ 0.]</td><td>None</td><td>[FIXED]</td></tr><tr><td>model.kern_f1.frequency_11</td><td>[ 0.]</td><td>None</td><td>[FIXED]</td></tr><tr><td>model.kern_f1.frequency_12</td><td>[ 0.]</td><td>None</td><td>[FIXED]</td></tr><tr><td>model.kern_f1.frequency_13</td><td>[ 0.]</td><td>None</td><td>[FIXED]</td></tr><tr><td>model.kern_f1.frequency_14</td><td>[ 0.]</td><td>None</td><td>[FIXED]</td></tr><tr><td>model.kern_f1.frequency_15</td><td>[ 0.]</td><td>None</td><td>[FIXED]</td></tr><tr><td>model.kern_f1.frequency_16</td><td>[ 0.]</td><td>None</td><td>[FIXED]</td></tr><tr><td>model.kern_f1.frequency_17</td><td>[ 0.]</td><td>None</td><td>[FIXED]</td></tr><tr><td>model.kern_f1.frequency_18</td><td>[ 0.]</td><td>None</td><td>[FIXED]</td></tr><tr><td>model.kern_f1.frequency_19</td><td>[ 0.]</td><td>None</td><td>[FIXED]</td></tr><tr><td>model.kern_f1.frequency_2</td><td>[ 1657.63729855]</td><td>None</td><td>[FIXED]</td></tr><tr><td>model.kern_f1.frequency_20</td><td>[ 0.]</td><td>None</td><td>[FIXED]</td></tr><tr><td>model.kern_f1.frequency_3</td><td>[ 2497.43966712]</td><td>None</td><td>[FIXED]</td></tr><tr><td>model.kern_f1.frequency_4</td><td>[ 3350.85272818]</td><td>None</td><td>[FIXED]</td></tr><tr><td>model.kern_f1.frequency_5</td><td>[ 0.]</td><td>None</td><td>[FIXED]</td></tr><tr><td>model.kern_f1.frequency_6</td><td>[ 0.]</td><td>None</td><td>[FIXED]</td></tr><tr><td>model.kern_f1.frequency_7</td><td>[ 0.]</td><td>None</td><td>[FIXED]</td></tr><tr><td>model.kern_f1.frequency_8</td><td>[ 0.]</td><td>None</td><td>[FIXED]</td></tr><tr><td>model.kern_f1.frequency_9</td><td>[ 0.]</td><td>None</td><td>[FIXED]</td></tr><tr><td>model.kern_f1.lengthscales</td><td>[ 3.58685099]</td><td>None</td><td>[FIXED]</td></tr><tr><td>model.kern_f1.variance_1</td><td>[ 0.18479862]</td><td>None</td><td>[FIXED]</td></tr><tr><td>model.kern_f1.variance_10</td><td>[ 0.]</td><td>None</td><td>[FIXED]</td></tr><tr><td>model.kern_f1.variance_11</td><td>[ 0.]</td><td>None</td><td>[FIXED]</td></tr><tr><td>model.kern_f1.variance_12</td><td>[ 0.]</td><td>None</td><td>[FIXED]</td></tr><tr><td>model.kern_f1.variance_13</td><td>[ 0.]</td><td>None</td><td>[FIXED]</td></tr><tr><td>model.kern_f1.variance_14</td><td>[ 0.]</td><td>None</td><td>[FIXED]</td></tr><tr><td>model.kern_f1.variance_15</td><td>[ 0.]</td><td>None</td><td>[FIXED]</td></tr><tr><td>model.kern_f1.variance_16</td><td>[ 0.]</td><td>None</td><td>[FIXED]</td></tr><tr><td>model.kern_f1.variance_17</td><td>[ 0.]</td><td>None</td><td>[FIXED]</td></tr><tr><td>model.kern_f1.variance_18</td><td>[ 0.]</td><td>None</td><td>[FIXED]</td></tr><tr><td>model.kern_f1.variance_19</td><td>[ 0.]</td><td>None</td><td>[FIXED]</td></tr><tr><td>model.kern_f1.variance_2</td><td>[ 0.030293]</td><td>None</td><td>[FIXED]</td></tr><tr><td>model.kern_f1.variance_20</td><td>[ 0.]</td><td>None</td><td>[FIXED]</td></tr><tr><td>model.kern_f1.variance_3</td><td>[ 0.01851254]</td><td>None</td><td>[FIXED]</td></tr><tr><td>model.kern_f1.variance_4</td><td>[ 0.01639584]</td><td>None</td><td>[FIXED]</td></tr><tr><td>model.kern_f1.variance_5</td><td>[ 0.]</td><td>None</td><td>[FIXED]</td></tr><tr><td>model.kern_f1.variance_6</td><td>[ 0.]</td><td>None</td><td>[FIXED]</td></tr><tr><td>model.kern_f1.variance_7</td><td>[ 0.]</td><td>None</td><td>[FIXED]</td></tr><tr><td>model.kern_f1.variance_8</td><td>[ 0.]</td><td>None</td><td>[FIXED]</td></tr><tr><td>model.kern_f1.variance_9</td><td>[ 0.]</td><td>None</td><td>[FIXED]</td></tr><tr><td>model.kern_f2.frequency_1</td><td>[ 261.38935946]</td><td>None</td><td>[FIXED]</td></tr><tr><td>model.kern_f2.frequency_10</td><td>[ 1312.75039247]</td><td>None</td><td>[FIXED]</td></tr><tr><td>model.kern_f2.frequency_11</td><td>[ 1578.46227266]</td><td>None</td><td>[FIXED]</td></tr><tr><td>model.kern_f2.frequency_12</td><td>[ 1647.22185637]</td><td>None</td><td>[FIXED]</td></tr><tr><td>model.kern_f2.frequency_13</td><td>[ 1845.45908592]</td><td>None</td><td>[FIXED]</td></tr><tr><td>model.kern_f2.frequency_14</td><td>[ 1980.97177366]</td><td>None</td><td>[FIXED]</td></tr><tr><td>model.kern_f2.frequency_15</td><td>[ 2111.71854703]</td><td>None</td><td>[FIXED]</td></tr><tr><td>model.kern_f2.frequency_16</td><td>[ 2649.41020783]</td><td>None</td><td>[FIXED]</td></tr><tr><td>model.kern_f2.frequency_17</td><td>[ 2775.14610983]</td><td>None</td><td>[FIXED]</td></tr><tr><td>model.kern_f2.frequency_18</td><td>[ 2932.47977726]</td><td>None</td><td>[FIXED]</td></tr><tr><td>model.kern_f2.frequency_19</td><td>[ 3196.11564702]</td><td>None</td><td>[FIXED]</td></tr><tr><td>model.kern_f2.frequency_2</td><td>[ 327.59950808]</td><td>None</td><td>[FIXED]</td></tr><tr><td>model.kern_f2.frequency_3</td><td>[ 390.95238846]</td><td>None</td><td>[FIXED]</td></tr><tr><td>model.kern_f2.frequency_4</td><td>[ 523.46326912]</td><td>None</td><td>[FIXED]</td></tr><tr><td>model.kern_f2.frequency_5</td><td>[ 655.65156197]</td><td>None</td><td>[FIXED]</td></tr><tr><td>model.kern_f2.frequency_6</td><td>[ 785.37344845]</td><td>None</td><td>[FIXED]</td></tr><tr><td>model.kern_f2.frequency_7</td><td>[ 983.59887838]</td><td>None</td><td>[FIXED]</td></tr><tr><td>model.kern_f2.frequency_8</td><td>[ 1048.44385228]</td><td>None</td><td>[FIXED]</td></tr><tr><td>model.kern_f2.frequency_9</td><td>[ 1175.078824]</td><td>None</td><td>[FIXED]</td></tr><tr><td>model.kern_f2.lengthscales</td><td>[ 1.76338529]</td><td>None</td><td>[FIXED]</td></tr><tr><td>model.kern_f2.variance_1</td><td>[ 0.03839539]</td><td>None</td><td>[FIXED]</td></tr><tr><td>model.kern_f2.variance_10</td><td>[ 0.00461477]</td><td>None</td><td>[FIXED]</td></tr><tr><td>model.kern_f2.variance_11</td><td>[ 0.00589333]</td><td>None</td><td>[FIXED]</td></tr><tr><td>model.kern_f2.variance_12</td><td>[ 0.00806637]</td><td>None</td><td>[FIXED]</td></tr><tr><td>model.kern_f2.variance_13</td><td>[ 0.01011483]</td><td>None</td><td>[FIXED]</td></tr><tr><td>model.kern_f2.variance_14</td><td>[ 0.00390248]</td><td>None</td><td>[FIXED]</td></tr><tr><td>model.kern_f2.variance_15</td><td>[ 0.00785408]</td><td>None</td><td>[FIXED]</td></tr><tr><td>model.kern_f2.variance_16</td><td>[ 0.00514717]</td><td>None</td><td>[FIXED]</td></tr><tr><td>model.kern_f2.variance_17</td><td>[ 0.00164478]</td><td>None</td><td>[FIXED]</td></tr><tr><td>model.kern_f2.variance_18</td><td>[ 0.00214104]</td><td>None</td><td>[FIXED]</td></tr><tr><td>model.kern_f2.variance_19</td><td>[ 0.00241875]</td><td>None</td><td>[FIXED]</td></tr><tr><td>model.kern_f2.variance_2</td><td>[ 0.03479095]</td><td>None</td><td>[FIXED]</td></tr><tr><td>model.kern_f2.variance_3</td><td>[ 0.03972852]</td><td>None</td><td>[FIXED]</td></tr><tr><td>model.kern_f2.variance_4</td><td>[ 0.02698926]</td><td>None</td><td>[FIXED]</td></tr><tr><td>model.kern_f2.variance_5</td><td>[ 0.01731873]</td><td>None</td><td>[FIXED]</td></tr><tr><td>model.kern_f2.variance_6</td><td>[ 0.01604142]</td><td>None</td><td>[FIXED]</td></tr><tr><td>model.kern_f2.variance_7</td><td>[ 0.00871592]</td><td>None</td><td>[FIXED]</td></tr><tr><td>model.kern_f2.variance_8</td><td>[ 0.01392402]</td><td>None</td><td>[FIXED]</td></tr><tr><td>model.kern_f2.variance_9</td><td>[ 0.00229818]</td><td>None</td><td>[FIXED]</td></tr><tr><td>model.kern_g1.lengthscales</td><td>[ 0.12676491]</td><td>None</td><td>+ve</td></tr><tr><td>model.kern_g1.variance</td><td>[ 11.84429982]</td><td>None</td><td>+ve</td></tr><tr><td>model.kern_g2.lengthscales</td><td>[ 0.16905803]</td><td>None</td><td>+ve</td></tr><tr><td>model.kern_g2.variance</td><td>[ 2.54613233]</td><td>None</td><td>+ve</td></tr><tr><td>model.likelihood.variance</td><td>[ 0.00836698]</td><td>None</td><td>+ve</td></tr><tr><td>model.q_mu1</td><td>[[ 0.]</br> [ 0.]</br> [ 0.]</br> [ 0.]</br> [ 0.]</br> [ 0.]</br> [ 0.]</br> [ 0.]</br> [ 0.]</br> [ 0.]</br> [ 0.]</br> [ 0.]</br> [ 0.]</br> [ 0.]</br> [ 0.]</br> [ 0.]</br> [ 0.]</br> [ 0.]</br> [ 0.]</br> [ 0.]</br> [ 0.]</br> [ 0.]</br> [ 0.]</br> [ 0.]</br> [ 0.]</br> [ 0.]</br> [ 0.]</br> [ 0.]</br> [ 0.]</br> [ 0.]</br> [ 0.]</br> [ 0.]</br> [ 0.]</br> [ 0.]</br> [ 0.]</br> [ 0.]</br> [ 0.]</br> [ 0.]</br> [ 0.]</br> [ 0.]</br> [ 0.]</br> [ 0.]</br> [ 0.]</br> [ 0.]</br> [ 0.]</br> [ 0.]</br> [ 0.]</br> [ 0.]</br> [ 0.]</br> [ 0.]</br> [ 0.]</br> [ 0.]</br> [ 0.]</br> [ 0.]</br> [ 0.]</br> [ 0.]</br> [ 0.]</br> [ 0.]</br> [ 0.]</br> [ 0.]</br> [ 0.]</br> [ 0.]</br> [ 0.]</br> [ 0.]</br> [ 0.]</br> [ 0.]</br> [ 0.]</br> [ 0.]</br> [ 0.]</br> [ 0.]</br> [ 0.]</br> [ 0.]</br> [ 0.]</br> [ 0.]</br> [ 0.]</br> [ 0.]</br> [ 0.]</br> [ 0.]</br> [ 0.]</br> [ 0.]</br> [ 0.]</br> [ 0.]</br> [ 0.]</br> [ 0.]</br> [ 0.]</br> [ 0.]</br> [ 0.]</br> [ 0.]</br> [ 0.]</br> [ 0.]</br> [ 0.]</br> [ 0.]</br> [ 0.]</br> [ 0.]</br> [ 0.]</br> [ 0.]</br> [ 0.]</br> [ 0.]</br> [ 0.]</br> [ 0.]</br> [ 0.]</br> [ 0.]</br> [ 0.]</br> [ 0.]</br> [ 0.]</br> [ 0.]</br> [ 0.]</br> [ 0.]</br> [ 0.]</br> [ 0.]</br> [ 0.]</br> [ 0.]</br> [ 0.]</br> [ 0.]</br> [ 0.]</br> [ 0.]</br> [ 0.]</br> [ 0.]</br> [ 0.]</br> [ 0.]</br> [ 0.]</br> [ 0.]</br> [ 0.]</br> [ 0.]</br> [ 0.]</br> [ 0.]</br> [ 0.]</br> [ 0.]</br> [ 0.]</br> [ 0.]</br> [ 0.]</br> [ 0.]</br> [ 0.]</br> [ 0.]</br> [ 0.]</br> [ 0.]</br> [ 0.]</br> [ 0.]</br> [ 0.]</br> [ 0.]</br> [ 0.]</br> [ 0.]</br> [ 0.]</br> [ 0.]</br> [ 0.]</br> [ 0.]</br> [ 0.]</br> [ 0.]</br> [ 0.]</br> [ 0.]</br> [ 0.]</br> [ 0.]</br> [ 0.]</br> [ 0.]</br> [ 0.]</br> [ 0.]</br> [ 0.]</br> [ 0.]</br> [ 0.]</br> [ 0.]</br> [ 0.]</br> [ 0.]</br> [ 0.]</br> [ 0.]</br> [ 0.]</br> [ 0.]</br> [ 0.]</br> [ 0.]</br> [ 0.]</br> [ 0.]</br> [ 0.]</br> [ 0.]</br> [ 0.]</br> [ 0.]</br> [ 0.]</br> [ 0.]</br> [ 0.]</br> [ 0.]</br> [ 0.]</br> [ 0.]</br> [ 0.]</br> [ 0.]</br> [ 0.]</br> [ 0.]</br> [ 0.]</br> [ 0.]</br> [ 0.]</br> [ 0.]</br> [ 0.]</br> [ 0.]</br> [ 0.]</br> [ 0.]</br> [ 0.]</br> [ 0.]</br> [ 0.]</br> [ 0.]</br> [ 0.]</br> [ 0.]</br> [ 0.]</br> [ 0.]]</td><td>None</td><td>(none)</td></tr><tr><td>model.q_mu2</td><td>[[ 0.]</br> [ 0.]</br> [ 0.]</br> [ 0.]</br> [ 0.]</br> [ 0.]</br> [ 0.]</br> [ 0.]</br> [ 0.]</br> [ 0.]</br> [ 0.]</br> [ 0.]</br> [ 0.]</br> [ 0.]</br> [ 0.]</br> [ 0.]</br> [ 0.]</br> [ 0.]</br> [ 0.]</br> [ 0.]</br> [ 0.]</br> [ 0.]</br> [ 0.]</br> [ 0.]</br> [ 0.]</br> [ 0.]</br> [ 0.]</br> [ 0.]</br> [ 0.]</br> [ 0.]</br> [ 0.]</br> [ 0.]</br> [ 0.]</br> [ 0.]</br> [ 0.]</br> [ 0.]</br> [ 0.]</br> [ 0.]</br> [ 0.]</br> [ 0.]</br> [ 0.]</br> [ 0.]</br> [ 0.]</br> [ 0.]</br> [ 0.]</br> [ 0.]</br> [ 0.]</br> [ 0.]</br> [ 0.]</br> [ 0.]</br> [ 0.]</br> [ 0.]</br> [ 0.]</br> [ 0.]</br> [ 0.]</br> [ 0.]</br> [ 0.]</br> [ 0.]</br> [ 0.]</br> [ 0.]</br> [ 0.]</br> [ 0.]</br> [ 0.]</br> [ 0.]</br> [ 0.]</br> [ 0.]</br> [ 0.]</br> [ 0.]</br> [ 0.]</br> [ 0.]</br> [ 0.]</br> [ 0.]</br> [ 0.]</br> [ 0.]</br> [ 0.]</br> [ 0.]</br> [ 0.]</br> [ 0.]</br> [ 0.]</br> [ 0.]</br> [ 0.]</br> [ 0.]</br> [ 0.]</br> [ 0.]</br> [ 0.]</br> [ 0.]</br> [ 0.]</br> [ 0.]</br> [ 0.]</br> [ 0.]</br> [ 0.]</br> [ 0.]</br> [ 0.]</br> [ 0.]</br> [ 0.]</br> [ 0.]</br> [ 0.]</br> [ 0.]</br> [ 0.]</br> [ 0.]</br> [ 0.]</br> [ 0.]</br> [ 0.]</br> [ 0.]</br> [ 0.]</br> [ 0.]</br> [ 0.]</br> [ 0.]</br> [ 0.]</br> [ 0.]</br> [ 0.]</br> [ 0.]</br> [ 0.]</br> [ 0.]</br> [ 0.]</br> [ 0.]</br> [ 0.]</br> [ 0.]</br> [ 0.]</br> [ 0.]</br> [ 0.]</br> [ 0.]</br> [ 0.]</br> [ 0.]</br> [ 0.]</br> [ 0.]</br> [ 0.]</br> [ 0.]</br> [ 0.]</br> [ 0.]</br> [ 0.]</br> [ 0.]</br> [ 0.]</br> [ 0.]</br> [ 0.]</br> [ 0.]</br> [ 0.]</br> [ 0.]</br> [ 0.]</br> [ 0.]</br> [ 0.]</br> [ 0.]</br> [ 0.]</br> [ 0.]</br> [ 0.]</br> [ 0.]</br> [ 0.]</br> [ 0.]</br> [ 0.]</br> [ 0.]</br> [ 0.]</br> [ 0.]</br> [ 0.]</br> [ 0.]</br> [ 0.]</br> [ 0.]</br> [ 0.]</br> [ 0.]</br> [ 0.]</br> [ 0.]</br> [ 0.]</br> [ 0.]</br> [ 0.]</br> [ 0.]</br> [ 0.]</br> [ 0.]</br> [ 0.]</br> [ 0.]</br> [ 0.]</br> [ 0.]</br> [ 0.]</br> [ 0.]</br> [ 0.]</br> [ 0.]</br> [ 0.]</br> [ 0.]</br> [ 0.]</br> [ 0.]</br> [ 0.]</br> [ 0.]</br> [ 0.]</br> [ 0.]</br> [ 0.]</br> [ 0.]</br> [ 0.]</br> [ 0.]</br> [ 0.]</br> [ 0.]</br> [ 0.]</br> [ 0.]</br> [ 0.]</br> [ 0.]</br> [ 0.]</br> [ 0.]</br> [ 0.]</br> [ 0.]</br> [ 0.]</br> [ 0.]</br> [ 0.]</br> [ 0.]]</td><td>None</td><td>(none)</td></tr><tr><td>model.q_mu3</td><td>[[ 0.]</br> [ 0.]</br> [ 0.]</br> [ 0.]</br> [ 0.]</br> [ 0.]</br> [ 0.]</br> [ 0.]</br> [ 0.]</br> [ 0.]</br> [ 0.]</br> [ 0.]</br> [ 0.]</br> [ 0.]</br> [ 0.]</br> [ 0.]</br> [ 0.]</br> [ 0.]</br> [ 0.]</br> [ 0.]</br> [ 0.]</br> [ 0.]</br> [ 0.]</br> [ 0.]</br> [ 0.]</br> [ 0.]</br> [ 0.]</br> [ 0.]</br> [ 0.]</br> [ 0.]</br> [ 0.]</br> [ 0.]</br> [ 0.]</br> [ 0.]</br> [ 0.]</br> [ 0.]</br> [ 0.]</br> [ 0.]</br> [ 0.]</br> [ 0.]</br> [ 0.]</br> [ 0.]</br> [ 0.]</br> [ 0.]</br> [ 0.]</br> [ 0.]</br> [ 0.]</br> [ 0.]</br> [ 0.]</br> [ 0.]</br> [ 0.]</br> [ 0.]</br> [ 0.]</br> [ 0.]</br> [ 0.]</br> [ 0.]</br> [ 0.]</br> [ 0.]</br> [ 0.]</br> [ 0.]</br> [ 0.]</br> [ 0.]</br> [ 0.]</br> [ 0.]</br> [ 0.]</br> [ 0.]</br> [ 0.]</br> [ 0.]</br> [ 0.]</br> [ 0.]</br> [ 0.]</br> [ 0.]</br> [ 0.]</br> [ 0.]</br> [ 0.]</br> [ 0.]</br> [ 0.]</br> [ 0.]</br> [ 0.]</br> [ 0.]</br> [ 0.]</br> [ 0.]</br> [ 0.]</br> [ 0.]</br> [ 0.]</br> [ 0.]</br> [ 0.]</br> [ 0.]</br> [ 0.]</br> [ 0.]</br> [ 0.]</br> [ 0.]</br> [ 0.]</br> [ 0.]</br> [ 0.]</br> [ 0.]</br> [ 0.]</br> [ 0.]</br> [ 0.]</br> [ 0.]</br> [ 0.]</br> [ 0.]</br> [ 0.]</br> [ 0.]</br> [ 0.]</br> [ 0.]</br> [ 0.]</br> [ 0.]</br> [ 0.]</br> [ 0.]</br> [ 0.]</br> [ 0.]</br> [ 0.]</br> [ 0.]</br> [ 0.]</br> [ 0.]</br> [ 0.]</br> [ 0.]</br> [ 0.]</br> [ 0.]</br> [ 0.]</br> [ 0.]</br> [ 0.]</br> [ 0.]</br> [ 0.]</br> [ 0.]</br> [ 0.]</br> [ 0.]</br> [ 0.]</br> [ 0.]</br> [ 0.]</br> [ 0.]</br> [ 0.]</br> [ 0.]</br> [ 0.]</br> [ 0.]</br> [ 0.]</br> [ 0.]</br> [ 0.]</br> [ 0.]</br> [ 0.]</br> [ 0.]</br> [ 0.]</br> [ 0.]</br> [ 0.]</br> [ 0.]</br> [ 0.]</br> [ 0.]</br> [ 0.]</br> [ 0.]</br> [ 0.]</br> [ 0.]</br> [ 0.]</br> [ 0.]</br> [ 0.]</br> [ 0.]</br> [ 0.]</br> [ 0.]</br> [ 0.]</br> [ 0.]</br> [ 0.]</br> [ 0.]</br> [ 0.]</br> [ 0.]</br> [ 0.]</br> [ 0.]</br> [ 0.]</br> [ 0.]</br> [ 0.]</br> [ 0.]</br> [ 0.]</br> [ 0.]</br> [ 0.]</br> [ 0.]</br> [ 0.]</br> [ 0.]</br> [ 0.]</br> [ 0.]</br> [ 0.]</br> [ 0.]</br> [ 0.]</br> [ 0.]</br> [ 0.]</br> [ 0.]</br> [ 0.]</br> [ 0.]</br> [ 0.]</br> [ 0.]</br> [ 0.]</br> [ 0.]</br> [ 0.]</br> [ 0.]</br> [ 0.]</br> [ 0.]</br> [ 0.]</br> [ 0.]</br> [ 0.]</br> [ 0.]</br> [ 0.]</br> [ 0.]]</td><td>None</td><td>(none)</td></tr><tr><td>model.q_mu4</td><td>[[ 0.]</br> [ 0.]</br> [ 0.]</br> [ 0.]</br> [ 0.]</br> [ 0.]</br> [ 0.]</br> [ 0.]</br> [ 0.]</br> [ 0.]</br> [ 0.]</br> [ 0.]</br> [ 0.]</br> [ 0.]</br> [ 0.]</br> [ 0.]</br> [ 0.]</br> [ 0.]</br> [ 0.]</br> [ 0.]</br> [ 0.]</br> [ 0.]</br> [ 0.]</br> [ 0.]</br> [ 0.]</br> [ 0.]</br> [ 0.]</br> [ 0.]</br> [ 0.]</br> [ 0.]</br> [ 0.]</br> [ 0.]</br> [ 0.]</br> [ 0.]</br> [ 0.]</br> [ 0.]</br> [ 0.]</br> [ 0.]</br> [ 0.]</br> [ 0.]</br> [ 0.]</br> [ 0.]</br> [ 0.]</br> [ 0.]</br> [ 0.]</br> [ 0.]</br> [ 0.]</br> [ 0.]</br> [ 0.]</br> [ 0.]</br> [ 0.]</br> [ 0.]</br> [ 0.]</br> [ 0.]</br> [ 0.]</br> [ 0.]</br> [ 0.]</br> [ 0.]</br> [ 0.]</br> [ 0.]</br> [ 0.]</br> [ 0.]</br> [ 0.]</br> [ 0.]</br> [ 0.]</br> [ 0.]</br> [ 0.]</br> [ 0.]</br> [ 0.]</br> [ 0.]</br> [ 0.]</br> [ 0.]</br> [ 0.]</br> [ 0.]</br> [ 0.]</br> [ 0.]</br> [ 0.]</br> [ 0.]</br> [ 0.]</br> [ 0.]</br> [ 0.]</br> [ 0.]</br> [ 0.]</br> [ 0.]</br> [ 0.]</br> [ 0.]</br> [ 0.]</br> [ 0.]</br> [ 0.]</br> [ 0.]</br> [ 0.]</br> [ 0.]</br> [ 0.]</br> [ 0.]</br> [ 0.]</br> [ 0.]</br> [ 0.]</br> [ 0.]</br> [ 0.]</br> [ 0.]</br> [ 0.]</br> [ 0.]</br> [ 0.]</br> [ 0.]</br> [ 0.]</br> [ 0.]</br> [ 0.]</br> [ 0.]</br> [ 0.]</br> [ 0.]</br> [ 0.]</br> [ 0.]</br> [ 0.]</br> [ 0.]</br> [ 0.]</br> [ 0.]</br> [ 0.]</br> [ 0.]</br> [ 0.]</br> [ 0.]</br> [ 0.]</br> [ 0.]</br> [ 0.]</br> [ 0.]</br> [ 0.]</br> [ 0.]</br> [ 0.]</br> [ 0.]</br> [ 0.]</br> [ 0.]</br> [ 0.]</br> [ 0.]</br> [ 0.]</br> [ 0.]</br> [ 0.]</br> [ 0.]</br> [ 0.]</br> [ 0.]</br> [ 0.]</br> [ 0.]</br> [ 0.]</br> [ 0.]</br> [ 0.]</br> [ 0.]</br> [ 0.]</br> [ 0.]</br> [ 0.]</br> [ 0.]</br> [ 0.]</br> [ 0.]</br> [ 0.]</br> [ 0.]</br> [ 0.]</br> [ 0.]</br> [ 0.]</br> [ 0.]</br> [ 0.]</br> [ 0.]</br> [ 0.]</br> [ 0.]</br> [ 0.]</br> [ 0.]</br> [ 0.]</br> [ 0.]</br> [ 0.]</br> [ 0.]</br> [ 0.]</br> [ 0.]</br> [ 0.]</br> [ 0.]</br> [ 0.]</br> [ 0.]</br> [ 0.]</br> [ 0.]</br> [ 0.]</br> [ 0.]</br> [ 0.]</br> [ 0.]</br> [ 0.]</br> [ 0.]</br> [ 0.]</br> [ 0.]</br> [ 0.]</br> [ 0.]</br> [ 0.]</br> [ 0.]</br> [ 0.]</br> [ 0.]</br> [ 0.]</br> [ 0.]</br> [ 0.]</br> [ 0.]</br> [ 0.]</br> [ 0.]</br> [ 0.]</br> [ 0.]</br> [ 0.]</br> [ 0.]</br> [ 0.]</br> [ 0.]]</td><td>None</td><td>(none)</td></tr><tr><td>model.q_sqrt1</td><td>[[[ 1.]</br>  [ 0.]</br>  [ 0.]</br>  ..., </br>  [ 0.]</br>  [ 0.]</br>  [ 0.]]</br></br> [[ 0.]</br>  [ 1.]</br>  [ 0.]</br>  ..., </br>  [ 0.]</br>  [ 0.]</br>  [ 0.]]</br></br> [[ 0.]</br>  [ 0.]</br>  [ 1.]</br>  ..., </br>  [ 0.]</br>  [ 0.]</br>  [ 0.]]</br></br> ..., </br> [[ 0.]</br>  [ 0.]</br>  [ 0.]</br>  ..., </br>  [ 1.]</br>  [ 0.]</br>  [ 0.]]</br></br> [[ 0.]</br>  [ 0.]</br>  [ 0.]</br>  ..., </br>  [ 0.]</br>  [ 1.]</br>  [ 0.]]</br></br> [[ 0.]</br>  [ 0.]</br>  [ 0.]</br>  ..., </br>  [ 0.]</br>  [ 0.]</br>  [ 1.]]]</td><td>None</td><td>(none)</td></tr><tr><td>model.q_sqrt2</td><td>[[[ 1.]</br>  [ 0.]</br>  [ 0.]</br>  ..., </br>  [ 0.]</br>  [ 0.]</br>  [ 0.]]</br></br> [[ 0.]</br>  [ 1.]</br>  [ 0.]</br>  ..., </br>  [ 0.]</br>  [ 0.]</br>  [ 0.]]</br></br> [[ 0.]</br>  [ 0.]</br>  [ 1.]</br>  ..., </br>  [ 0.]</br>  [ 0.]</br>  [ 0.]]</br></br> ..., </br> [[ 0.]</br>  [ 0.]</br>  [ 0.]</br>  ..., </br>  [ 1.]</br>  [ 0.]</br>  [ 0.]]</br></br> [[ 0.]</br>  [ 0.]</br>  [ 0.]</br>  ..., </br>  [ 0.]</br>  [ 1.]</br>  [ 0.]]</br></br> [[ 0.]</br>  [ 0.]</br>  [ 0.]</br>  ..., </br>  [ 0.]</br>  [ 0.]</br>  [ 1.]]]</td><td>None</td><td>(none)</td></tr><tr><td>model.q_sqrt3</td><td>[[[ 1.]</br>  [ 0.]</br>  [ 0.]</br>  ..., </br>  [ 0.]</br>  [ 0.]</br>  [ 0.]]</br></br> [[ 0.]</br>  [ 1.]</br>  [ 0.]</br>  ..., </br>  [ 0.]</br>  [ 0.]</br>  [ 0.]]</br></br> [[ 0.]</br>  [ 0.]</br>  [ 1.]</br>  ..., </br>  [ 0.]</br>  [ 0.]</br>  [ 0.]]</br></br> ..., </br> [[ 0.]</br>  [ 0.]</br>  [ 0.]</br>  ..., </br>  [ 1.]</br>  [ 0.]</br>  [ 0.]]</br></br> [[ 0.]</br>  [ 0.]</br>  [ 0.]</br>  ..., </br>  [ 0.]</br>  [ 1.]</br>  [ 0.]]</br></br> [[ 0.]</br>  [ 0.]</br>  [ 0.]</br>  ..., </br>  [ 0.]</br>  [ 0.]</br>  [ 1.]]]</td><td>None</td><td>(none)</td></tr><tr><td>model.q_sqrt4</td><td>[[[ 1.]</br>  [ 0.]</br>  [ 0.]</br>  ..., </br>  [ 0.]</br>  [ 0.]</br>  [ 0.]]</br></br> [[ 0.]</br>  [ 1.]</br>  [ 0.]</br>  ..., </br>  [ 0.]</br>  [ 0.]</br>  [ 0.]]</br></br> [[ 0.]</br>  [ 0.]</br>  [ 1.]</br>  ..., </br>  [ 0.]</br>  [ 0.]</br>  [ 0.]]</br></br> ..., </br> [[ 0.]</br>  [ 0.]</br>  [ 0.]</br>  ..., </br>  [ 1.]</br>  [ 0.]</br>  [ 0.]]</br></br> [[ 0.]</br>  [ 0.]</br>  [ 0.]</br>  ..., </br>  [ 0.]</br>  [ 1.]</br>  [ 0.]]</br></br> [[ 0.]</br>  [ 0.]</br>  [ 0.]</br>  ..., </br>  [ 0.]</br>  [ 0.]</br>  [ 1.]]]</td><td>None</td><td>(none)</td></tr></table>"
      ],
      "text/plain": [
       "<gpitch.loogp.LooGP at 0x7f81434d8890>"
      ]
     },
     "execution_count": 27,
     "metadata": {},
     "output_type": "execute_result"
    }
   ],
   "source": [
    "m"
   ]
  },
  {
   "cell_type": "code",
   "execution_count": null,
   "metadata": {},
   "outputs": [],
   "source": [
    "\n",
    "\n",
    "\n",
    "\n",
    "\n",
    "\n",
    "\n",
    "\n",
    "\n",
    "\n",
    "\n",
    "\n",
    "\n",
    "\n",
    "\n",
    "\n",
    "\n",
    "\n",
    "\n",
    "\n",
    "\n",
    "\n",
    "\n",
    "\n",
    "\n",
    "\n",
    "\n",
    "\n"
   ]
  }
 ],
 "metadata": {
  "kernelspec": {
   "display_name": "Python 2",
   "language": "python",
   "name": "python2"
  },
  "language_info": {
   "codemirror_mode": {
    "name": "ipython",
    "version": 2
   },
   "file_extension": ".py",
   "mimetype": "text/x-python",
   "name": "python",
   "nbconvert_exporter": "python",
   "pygments_lexer": "ipython2",
   "version": "2.7.14"
  }
 },
 "nbformat": 4,
 "nbformat_minor": 2
}
