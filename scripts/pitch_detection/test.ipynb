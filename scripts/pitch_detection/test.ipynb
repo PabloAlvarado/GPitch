{
 "cells": [
  {
   "cell_type": "code",
   "execution_count": null,
   "metadata": {
    "collapsed": true
   },
   "outputs": [],
   "source": [
    "\n",
    "active_device = sys.argv[1]\n",
    "gpitch.amtgp.init_settings(visible_device=active_device, interactive=False)  # conf gpu usage, plot\n",
    "\n",
    "data_loc = '../../../datasets/fender/train/'  # location of training data, where to save results\n",
    "re_fil_loc = '../../../results/files/fender/'\n",
    "re_fig_loc = '../../../results/figures/fender/'\n"
   ]
  }
 ],
 "metadata": {
  "kernelspec": {
   "display_name": "Python 2",
   "language": "python",
   "name": "python2"
  },
  "language_info": {
   "codemirror_mode": {
    "name": "ipython",
    "version": 2
   },
   "file_extension": ".py",
   "mimetype": "text/x-python",
   "name": "python",
   "nbconvert_exporter": "python",
   "pygments_lexer": "ipython2",
   "version": "2.7.6"
  }
 },
 "nbformat": 4,
 "nbformat_minor": 0
}
